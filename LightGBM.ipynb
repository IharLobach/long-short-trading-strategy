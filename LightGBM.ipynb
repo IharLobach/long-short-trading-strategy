{
 "cells": [
  {
   "cell_type": "code",
   "execution_count": 1,
   "metadata": {
    "ExecuteTime": {
     "end_time": "2020-03-03T02:04:18.675044Z",
     "start_time": "2020-03-03T02:04:15.120387Z"
    }
   },
   "outputs": [],
   "source": [
    "import pandas as pd\n",
    "import numpy as np\n",
    "import matplotlib.pyplot as plt\n",
    "%matplotlib inline\n",
    "from sklearn.metrics import accuracy_score, confusion_matrix\n",
    "from sklearn.tree import DecisionTreeClassifier\n",
    "from sklearn.ensemble import AdaBoostClassifier, RandomForestClassifier\n",
    "pd.set_option('use_inf_as_na', True)\n",
    "from collections import Counter\n",
    "import pickle\n",
    "from datetime import datetime\n",
    "from sklearn.model_selection import PredefinedSplit\n",
    "from sklearn.model_selection import GridSearchCV\n",
    "import lightgbm as lgb"
   ]
  },
  {
   "cell_type": "markdown",
   "metadata": {},
   "source": [
    "General idea: I will try to run everything (different label types, different optimal features) in one nested loop. I will save the performance of the strategy for each case in a list, and then analyze that list."
   ]
  },
  {
   "cell_type": "code",
   "execution_count": 2,
   "metadata": {
    "ExecuteTime": {
     "end_time": "2020-03-03T02:04:21.903526Z",
     "start_time": "2020-03-03T02:04:19.923963Z"
    }
   },
   "outputs": [],
   "source": [
    "raw_data = pd.read_pickle(r'../lecture2/dataset.pkl')\n",
    "data = raw_data[raw_data['market_cap'] > 1000.0]\n",
    "data = data.copy()\n",
    "data.fillna(0.0,inplace=True)"
   ]
  },
  {
   "cell_type": "markdown",
   "metadata": {},
   "source": [
    "I will consider 3 different label types:\n",
    "1. (-1, 0, +1)\n",
    "2. (-1, +1)\n",
    "3. (-2, -1, 0, +1, +2)"
   ]
  },
  {
   "cell_type": "code",
   "execution_count": 3,
   "metadata": {
    "ExecuteTime": {
     "end_time": "2020-03-03T02:04:24.516696Z",
     "start_time": "2020-03-03T02:04:24.512695Z"
    }
   },
   "outputs": [],
   "source": [
    "def f1(x):\n",
    "    if x > 0.01:\n",
    "        return 1\n",
    "    elif x < -0.01:\n",
    "        return -1\n",
    "    else:\n",
    "        return 0\n",
    "\n",
    "def f2(x):\n",
    "    if x > 0:\n",
    "        return 1\n",
    "    else:\n",
    "        return -1\n",
    "\n",
    "def f3(x):\n",
    "    absx = abs(x)\n",
    "    signx = np.sign(x)\n",
    "    if absx > 0.05:\n",
    "        return signx*2\n",
    "    elif absx > 0.01:\n",
    "        return signx\n",
    "    else:\n",
    "        return 0"
   ]
  },
  {
   "cell_type": "code",
   "execution_count": 4,
   "metadata": {
    "ExecuteTime": {
     "end_time": "2020-03-03T02:04:30.421746Z",
     "start_time": "2020-03-03T02:04:30.370536Z"
    }
   },
   "outputs": [],
   "source": [
    "# adding all three kinds of labels to the data:\n",
    "data['rel_performance1'] = data['pred_rel_return'].apply(f1)\n",
    "data['rel_performance2'] = data['pred_rel_return'].apply(f2)\n",
    "data['rel_performance3'] = data['pred_rel_return'].apply(f3)\n",
    "data.reset_index(inplace=True)\n",
    "data.set_index('date',inplace=True)"
   ]
  },
  {
   "cell_type": "code",
   "execution_count": 5,
   "metadata": {},
   "outputs": [],
   "source": [
    "# as opposed to the lecture material, where we remove 'rel_performance', in this cell,\n",
    "# I remove the columns ['rel_performance1', 'rel_performance2', 'rel_performance3']\n",
    "# in the training and test data\n",
    "start_dates = [pd.to_datetime('2000-01-01') + pd.DateOffset(months = 3 * i) for i in range(62)]\n",
    "end_dates = [d + pd.DateOffset(months = 36) for d in start_dates]\n",
    "\n",
    "training_frames = [data.loc[d:d+pd.DateOffset(months = 36)] for d in start_dates]\n",
    "test_frames = [data.loc[d + pd.DateOffset(months=3):d+pd.DateOffset(months = 6)] for d in end_dates]\n",
    "\n",
    "training_data = [d.reset_index().drop\n",
    "                                 (['ticker','date',\n",
    "                                   'next_period_return',\n",
    "                                   'spy_next_period_return',\n",
    "                                   'rel_performance1', 'rel_performance2', 'rel_performance3', 'pred_rel_return',\n",
    "                                  'return', 'cum_ret', 'spy_cum_ret'],axis=1) for d in training_frames]\n",
    "\n",
    "test_data = [d.reset_index().drop(['ticker','date',\n",
    "                                   'next_period_return',\n",
    "                                   'spy_next_period_return',\n",
    "                                   'rel_performance1', 'rel_performance2', 'rel_performance3','pred_rel_return',\n",
    "                                  'return', 'cum_ret', 'spy_cum_ret'],axis=1) for d in test_frames]"
   ]
  },
  {
   "cell_type": "markdown",
   "metadata": {},
   "source": [
    "In the class, Professor said that it is ok to only try 3 combinations of hyperparameters in HW4, because GridSearch would take too long. However, I decided to try GridSearch with a rather small number of combinations. It does take a long time to run, but not too long."
   ]
  },
  {
   "cell_type": "code",
   "execution_count": 9,
   "metadata": {
    "ExecuteTime": {
     "end_time": "2020-03-03T02:04:47.237618Z",
     "start_time": "2020-03-03T02:04:47.232614Z"
    }
   },
   "outputs": [],
   "source": [
    "param_grid = {'n_estimators': [100,200,400], 'reg_lambda': [0.0,0.25,0.5],\n",
    "   'min_child_samples': [1000,2000,4000], 'max_depth': [2,4,6], 'num_leaves': [15,31]}\n",
    "# I will use default learning_rate=0.1 everywhere"
   ]
  },
  {
   "cell_type": "markdown",
   "metadata": {},
   "source": [
    "# Step 1"
   ]
  },
  {
   "cell_type": "markdown",
   "metadata": {},
   "source": [
    "To find an optimal combination of hyper parameters for the LGBMClassifier for each choice of labels I will do a grid search using 2000--2003 as a training set and 2003-04-01--2003-07-01 as a validation set (using all features):"
   ]
  },
  {
   "cell_type": "code",
   "execution_count": 10,
   "metadata": {},
   "outputs": [
    {
     "name": "stdout",
     "output_type": "stream",
     "text": [
      "Fitting 1 folds for each of 162 candidates, totalling 162 fits\n",
      "-----------------------------------------------------------------\n",
      "label_type_idx =  1\n",
      "optimal hyperparameters =  {'max_depth': 2, 'min_child_samples': 4000, 'n_estimators': 100, 'num_leaves': 15, 'reg_lambda': 0.0}\n",
      "score =  0.5683192261185006\n",
      "-----------------------------------------------------------------\n",
      "Fitting 1 folds for each of 162 candidates, totalling 162 fits\n",
      "-----------------------------------------------------------------\n",
      "label_type_idx =  2\n",
      "optimal hyperparameters =  {'max_depth': 2, 'min_child_samples': 4000, 'n_estimators': 100, 'num_leaves': 15, 'reg_lambda': 0.0}\n",
      "score =  0.6009673518742442\n",
      "-----------------------------------------------------------------\n",
      "Fitting 1 folds for each of 162 candidates, totalling 162 fits\n",
      "-----------------------------------------------------------------\n",
      "label_type_idx =  3\n",
      "optimal hyperparameters =  {'max_depth': 2, 'min_child_samples': 4000, 'n_estimators': 100, 'num_leaves': 15, 'reg_lambda': 0.0}\n",
      "score =  0.42563482466747277\n",
      "-----------------------------------------------------------------\n"
     ]
    }
   ],
   "source": [
    "np.random.seed(123)\n",
    "optimal_hyper_params = []\n",
    "# it was necessary to use different objectives for the three label types: \n",
    "objectives = ['multi_class', 'binary', 'multi_class']\n",
    "for label_type_idx in range(1,4):\n",
    "    # here I choose label type (1, 2, or 3) accroding to label_type_idx values chosen above\n",
    "    training_labels = [d[f'rel_performance{label_type_idx}'].values for d in training_frames]\n",
    "    validation_labels = [d[f'rel_performance{label_type_idx}'].values for d in test_frames]\n",
    "    \n",
    "    # gridsearch for best hyperparams:\n",
    "    train = training_data[0]\n",
    "    valid = test_data[0]\n",
    "    combined = pd.concat([train, valid])\n",
    "    y = np.append(training_labels[0], validation_labels[0])\n",
    "    indices = np.append(-np.ones(len(train)),np.zeros(len(valid)))\n",
    "    cv = PredefinedSplit(test_fold=indices)\n",
    "    gb_clf = lgb.LGBMClassifier(objective=objectives[label_type_idx-1])\n",
    "    clf = GridSearchCV(gb_clf,\n",
    "                   param_grid,cv=cv,n_jobs=-1,scoring='accuracy',verbose=3,\n",
    "                   return_train_score=True)\n",
    "    clf.fit(combined,y)\n",
    "    print(\"-----------------------------------------------------------------\")\n",
    "    print(\"label_type_idx = \", label_type_idx)\n",
    "    optimal_hyper_params.append(clf.best_params_)\n",
    "    print(\"optimal hyperparameters = \", clf.best_params_)\n",
    "    print(\"score = \", clf.best_score_)\n",
    "    print(\"-----------------------------------------------------------------\")"
   ]
  },
  {
   "cell_type": "code",
   "execution_count": 12,
   "metadata": {},
   "outputs": [
    {
     "data": {
      "text/plain": [
       "[{'max_depth': 2,\n",
       "  'min_child_samples': 4000,\n",
       "  'n_estimators': 100,\n",
       "  'num_leaves': 15,\n",
       "  'reg_lambda': 0.0},\n",
       " {'max_depth': 2,\n",
       "  'min_child_samples': 4000,\n",
       "  'n_estimators': 100,\n",
       "  'num_leaves': 15,\n",
       "  'reg_lambda': 0.0},\n",
       " {'max_depth': 2,\n",
       "  'min_child_samples': 4000,\n",
       "  'n_estimators': 100,\n",
       "  'num_leaves': 15,\n",
       "  'reg_lambda': 0.0}]"
      ]
     },
     "execution_count": 12,
     "metadata": {},
     "output_type": "execute_result"
    }
   ],
   "source": [
    "optimal_hyper_params"
   ]
  },
  {
   "cell_type": "markdown",
   "metadata": {},
   "source": [
    "### Backtesting all the combinations of optimal features, label types, and the corresponding optimal hyperparameters:"
   ]
  },
  {
   "cell_type": "code",
   "execution_count": 14,
   "metadata": {},
   "outputs": [
    {
     "name": "stdout",
     "output_type": "stream",
     "text": [
      "Working on gb_opt_feat_idx =  1 , label_type_idx =  1\n",
      "Working on gb_opt_feat_idx =  1 , label_type_idx =  2\n",
      "Working on gb_opt_feat_idx =  1 , label_type_idx =  3\n",
      "Working on gb_opt_feat_idx =  2 , label_type_idx =  1\n",
      "Working on gb_opt_feat_idx =  2 , label_type_idx =  2\n",
      "Working on gb_opt_feat_idx =  2 , label_type_idx =  3\n",
      "Working on gb_opt_feat_idx =  3 , label_type_idx =  1\n",
      "Working on gb_opt_feat_idx =  3 , label_type_idx =  2\n",
      "Working on gb_opt_feat_idx =  3 , label_type_idx =  3\n"
     ]
    }
   ],
   "source": [
    "all_results = []\n",
    "for opt_feat_idx in range(1,4):\n",
    "    with open(f'Data_for_HW4/gb_opt_feat_{opt_feat_idx}.pkl','rb') as f:\n",
    "        optimal_features = pickle.load(f)\n",
    "    for label_type_idx in range(1,4):\n",
    "        # here I choose label type (1,2, or 3) accroding to label_type_idx values chosen above\n",
    "        print(\"Working on gb_opt_feat_idx = \", opt_feat_idx, \", label_type_idx = \", label_type_idx)\n",
    "        training_labels = [d[f'rel_performance{label_type_idx}'].values for d in training_frames]\n",
    "        validation_labels = [d[f'rel_performance{label_type_idx}'].values for d in test_frames]\n",
    "        hyper_params = optimal_hyper_params[label_type_idx-1]\n",
    "        results = {\"label_type_idx\": label_type_idx, \"opt_feat_idx\": opt_feat_idx,\n",
    "                   \"opt_feat_file\": f\"gb_opt_feat_{opt_feat_idx}.pkl\",\n",
    "                   \"hyper_params\": hyper_params}\n",
    "        gb_clf = lgb.LGBMClassifier(objective=objectives[label_type_idx-1],\n",
    "                                    n_jobs=-1, **hyper_params)\n",
    "        P_L = []\n",
    "        x = [0,1]\n",
    "        ret = []\n",
    "        for i in range(1,len(optimal_features)-1):\n",
    "                gb_clf.fit(training_data[i][optimal_features[i-1]],training_labels[i])\n",
    "                pred_i = gb_clf.predict(test_data[i][optimal_features[i-1]])\n",
    "                profit_i = (pred_i * test_frames[i]['next_period_return']).sum()\n",
    "                positions = np.sum(np.abs(pred_i))\n",
    "                x.append(x[i] + (x[i]/positions) * profit_i)\n",
    "        results['x'] = x\n",
    "        all_results.append(results)"
   ]
  },
  {
   "cell_type": "code",
   "execution_count": 15,
   "metadata": {},
   "outputs": [
    {
     "data": {
      "text/plain": [
       "9"
      ]
     },
     "execution_count": 15,
     "metadata": {},
     "output_type": "execute_result"
    }
   ],
   "source": [
    "len(all_results)"
   ]
  },
  {
   "cell_type": "markdown",
   "metadata": {},
   "source": [
    "### Calculating the performance of all the considered strategies and saving the results in the list ```all_results```:"
   ]
  },
  {
   "cell_type": "code",
   "execution_count": 48,
   "metadata": {},
   "outputs": [],
   "source": [
    "SPY0 = pd.read_pickle(r'../lecture2/SPY_cum_ret.pkl')\n",
    "def performance_from_x(x, results):\n",
    "    SPY = SPY0.copy()\n",
    "    SPY = SPY.loc['2003-10-01':]\n",
    "    SPY = SPY.resample('Q').ffill()\n",
    "    SPY['spy_cum_ret'] = (SPY['spy_cum_ret'] - SPY['spy_cum_ret'][0] + 1)\n",
    "    SPY['strategy'] = x[1:]\n",
    "    results['quarterly_data'] = SPY.copy()\n",
    "    SPY = SPY.resample('A').bfill()\n",
    "    results['annual_data'] = SPY.copy()\n",
    "    strategy_mean_ret = (SPY['strategy'] - 1).diff().mean()\n",
    "    strategy_std = (SPY['strategy'] - 1).diff().std()\n",
    "    strategy_sr = strategy_mean_ret/strategy_std\n",
    "    results['Strategy Sharpe Ratio'] = strategy_sr\n",
    "    results['SP Sharpe Ratio'] = (SPY['spy_cum_ret'] - 1).diff().mean()/(SPY['spy_cum_ret'] - 1).diff().std()\n",
    "    results['Strategy total return'] = x[-1]\n",
    "    results['SPY total return'] = SPY['spy_cum_ret'][-1]\n",
    "    avr = np.exp(np.log(x[-1])/15.) - 1\n",
    "    results['Average annual return'] = avr\n",
    "    sp_avr = np.exp(np.log(SPY['spy_cum_ret'][-1])/15) - 1\n",
    "    results['SPY average annual return'] = sp_avr\n",
    "    strategy_ret = (SPY['strategy'] - 1).diff().values[1:]\n",
    "    spy_ret = (SPY['spy_cum_ret'] - 1).diff().values[1:]\n",
    "    beta = (np.cov(spy_ret,strategy_ret)/np.var(spy_ret))[1,0]\n",
    "    results['beta'] = beta\n",
    "    residual_ret = strategy_ret - beta * spy_ret\n",
    "    IR = np.mean(residual_ret)/np.std(residual_ret)\n",
    "    results['Information Ratio'] = IR\n",
    "    alpha = np.mean(residual_ret)\n",
    "    results['Strategy alpha'] = alpha\n",
    "for results in all_results:\n",
    "    performance_from_x(results['x'], results)"
   ]
  },
  {
   "cell_type": "markdown",
   "metadata": {},
   "source": [
    "An example of a saved dictionary, representing the performace of one of the considered strategies:"
   ]
  },
  {
   "cell_type": "code",
   "execution_count": 49,
   "metadata": {},
   "outputs": [
    {
     "data": {
      "text/plain": [
       "{'label_type_idx': 1,\n",
       " 'opt_feat_idx': 1,\n",
       " 'opt_feat_file': 'gb_opt_feat_1.pkl',\n",
       " 'hyper_params': {'max_depth': 2,\n",
       "  'min_child_samples': 4000,\n",
       "  'n_estimators': 100,\n",
       "  'num_leaves': 15,\n",
       "  'reg_lambda': 0.0},\n",
       " 'x': [0,\n",
       "  1,\n",
       "  1.1047145721649485,\n",
       "  1.2257503912392116,\n",
       "  1.217668350318649,\n",
       "  1.1901856220393228,\n",
       "  1.2902336796503364,\n",
       "  1.392024981460798,\n",
       "  1.3717645398374083,\n",
       "  1.5132676698240382,\n",
       "  1.4877238851913084,\n",
       "  1.6350778339266823,\n",
       "  1.7227999984506466,\n",
       "  1.6369875548697872,\n",
       "  1.778416689531961,\n",
       "  1.907522718153548,\n",
       "  2.015193584682987,\n",
       "  1.9800259306364572,\n",
       "  2.018037767247838,\n",
       "  1.9098791107224076,\n",
       "  1.9801177548807354,\n",
       "  1.8536028186738776,\n",
       "  1.4881545861773973,\n",
       "  1.525837635463847,\n",
       "  1.6554228346540751,\n",
       "  1.7592989363404476,\n",
       "  1.9433666067248494,\n",
       "  2.0717807959344237,\n",
       "  2.217011912574536,\n",
       "  2.142318484224781,\n",
       "  2.3619323479322767,\n",
       "  2.6419044606979813,\n",
       "  2.751984612206112,\n",
       "  2.5007288941698285,\n",
       "  2.5211826165788898,\n",
       "  2.7683064260888415,\n",
       "  2.772508028152527,\n",
       "  2.7590484287170645,\n",
       "  2.8297721180554047,\n",
       "  3.0203287523918685,\n",
       "  3.1821082765856614,\n",
       "  3.4357370784853325,\n",
       "  3.530659425998376,\n",
       "  3.563007446352833,\n",
       "  3.6126827249415103,\n",
       "  3.663403241058114,\n",
       "  3.7194020727947588,\n",
       "  3.8036553303166185,\n",
       "  3.913166756701805,\n",
       "  4.005003962395027,\n",
       "  4.013100311452078,\n",
       "  3.8557793937377065,\n",
       "  3.8202663050045187,\n",
       "  3.7590345418306237,\n",
       "  3.78457389496503,\n",
       "  3.76632229564509,\n",
       "  3.8314441064121865,\n",
       "  3.8975786485923822,\n",
       "  3.9903069826610262,\n",
       "  4.089001916582898,\n",
       "  4.099518491749847,\n",
       "  4.168635668425718],\n",
       " 'quarterly_data':             spy_cum_ret  strategy\n",
       " date                             \n",
       " 2003-12-31     1.000000  1.000000\n",
       " 2004-03-31     1.021474  1.104715\n",
       " 2004-06-30     1.039305  1.225750\n",
       " 2004-09-30     1.020484  1.217668\n",
       " 2004-12-31     1.107865  1.190186\n",
       " ...                 ...       ...\n",
       " 2017-12-31     2.392402  3.897579\n",
       " 2018-03-31     2.387208  3.990307\n",
       " 2018-06-30     2.424032  4.089002\n",
       " 2018-09-30     2.498418  4.099518\n",
       " 2018-12-31     2.360201  4.168636\n",
       " \n",
       " [61 rows x 2 columns],\n",
       " 'annual_data':             spy_cum_ret  strategy\n",
       " date                             \n",
       " 2003-12-31     1.000000  1.000000\n",
       " 2004-12-31     1.107865  1.190186\n",
       " 2005-12-31     1.160316  1.513268\n",
       " 2006-12-31     1.312439  1.636988\n",
       " 2007-12-31     1.375107  1.980026\n",
       " 2008-12-31     1.001322  1.853603\n",
       " 2009-12-31     1.270714  1.759299\n",
       " 2010-12-31     1.427042  2.142318\n",
       " 2011-12-31     1.472251  2.500729\n",
       " 2012-12-31     1.628635  2.759048\n",
       " 2013-12-31     1.914856  3.435737\n",
       " 2014-12-31     2.047496  3.663403\n",
       " 2015-12-31     2.071800  4.005004\n",
       " 2016-12-31     2.193680  3.759035\n",
       " 2017-12-31     2.392402  3.897579\n",
       " 2018-12-31     2.360201  4.168636,\n",
       " 'Strategy Sharpe Ratio': 0.9123374173282296,\n",
       " 'SP Sharpe Ratio': 0.5846194645603067,\n",
       " 'Strategy total return': 4.168635668425718,\n",
       " 'SPY total return': 2.360200999999999,\n",
       " 'Average annual return': 0.09984865828624212,\n",
       " 'SPY average annual return': 0.058920280465017294,\n",
       " 'beta': 0.476447156487312,\n",
       " 'Information Ratio': 0.7867473874741853,\n",
       " 'Strategy alpha': 0.16803811798163473,\n",
       " 'max_drawdown': 0.1114768200157153}"
      ]
     },
     "execution_count": 49,
     "metadata": {},
     "output_type": "execute_result"
    }
   ],
   "source": [
    "all_results[0]"
   ]
  },
  {
   "cell_type": "markdown",
   "metadata": {},
   "source": [
    "### Creating a function to find max yearly drawdown"
   ]
  },
  {
   "cell_type": "code",
   "execution_count": 18,
   "metadata": {},
   "outputs": [
    {
     "data": {
      "text/plain": [
       "<AxesSubplot:xlabel='date'>"
      ]
     },
     "execution_count": 18,
     "metadata": {},
     "output_type": "execute_result"
    },
    {
     "data": {
      "image/png": "[encoded data removed]",
      "text/plain": [
       "<Figure size 432x288 with 1 Axes>"
      ]
     },
     "metadata": {
      "needs_background": "light"
     },
     "output_type": "display_data"
    }
   ],
   "source": [
    "# let's use first combination of parameters as an example\n",
    "all_results[0]['annual_data'].plot()"
   ]
  },
  {
   "cell_type": "markdown",
   "metadata": {},
   "source": [
    "I will make my own function for max drawdown calculation, it calculates the same thing as the one Professor showed us in class, but in a different way.\n",
    "\n",
    "I use the fact that in the region between a local max and the **next** local min, the slope of the curve is negative, by definition. Thus, I find the regions (start_index, end_index) where the slope is negative. Then, a drawdown is just the drop in each such region. The only difference that I introduce compared to the lecture is that I divide the absolute drop by the value of the curve at the beginning of the drop. I think a relative drop is more relevant to characterize how anxious investors are."
   ]
  },
  {
   "cell_type": "code",
   "execution_count": 19,
   "metadata": {},
   "outputs": [
    {
     "data": {
      "text/plain": [
       "[(4, 6), (12, 13)]"
      ]
     },
     "execution_count": 19,
     "metadata": {},
     "output_type": "execute_result"
    }
   ],
   "source": [
    "# this cell finds index ranges of return drops\n",
    "ys = all_results[0]['annual_data']['strategy']\n",
    "diff = ys.diff().fillna(0)\n",
    "drawdown_indexes = [] # list of tuples (start_of_drop, end_of_drop)\n",
    "i = 0\n",
    "while i < len(ys):\n",
    "    if diff[i] < 0: # find the beginning of drop\n",
    "        start_idx = i-1\n",
    "        while i < len(ys) and diff[i] < 0: # go on until the end of the drop\n",
    "            i += 1\n",
    "        end_idx = i-1\n",
    "        drawdown_indexes.append((start_idx, end_idx))\n",
    "    else:\n",
    "        i += 1\n",
    "drawdown_indexes"
   ]
  },
  {
   "cell_type": "code",
   "execution_count": 20,
   "metadata": {},
   "outputs": [
    {
     "data": {
      "text/plain": [
       "[0.1114768200157153, 0.061415524896837194]"
      ]
     },
     "execution_count": 20,
     "metadata": {},
     "output_type": "execute_result"
    }
   ],
   "source": [
    "drawdowns = [(ys[start_idx]-ys[end_idx])/ys[start_idx] for start_idx, end_idx in drawdown_indexes]\n",
    "drawdowns"
   ]
  },
  {
   "cell_type": "code",
   "execution_count": 21,
   "metadata": {},
   "outputs": [],
   "source": [
    "# The above calculation of drawdown seems to work. Let us define it as a funciton:\n",
    "def get_max_drawdown(ys):\n",
    "    diff = ys.diff().fillna(0)\n",
    "    drawdown_indexes = [] # list of tuples (start_of_drop, end_of_drop)\n",
    "    i = 0\n",
    "    while i < len(ys):\n",
    "        if diff[i] < 0: # find the beginning of drop\n",
    "            start_idx = i-1\n",
    "            while i < len(ys) and diff[i] < 0: # go on until the end of the drop\n",
    "                i += 1\n",
    "            end_idx = i-1\n",
    "            drawdown_indexes.append((start_idx, end_idx))\n",
    "        else:\n",
    "            i += 1\n",
    "    drawdowns = [(ys[start_idx]-ys[end_idx])/ys[start_idx] for start_idx, end_idx in drawdown_indexes]\n",
    "    max_drawdown = max(drawdowns) if len(drawdowns) else 0 # no drawdowns is a possibility\n",
    "    return max_drawdown"
   ]
  },
  {
   "cell_type": "code",
   "execution_count": 22,
   "metadata": {},
   "outputs": [],
   "source": [
    "# calculate max drawdown for all strategies:\n",
    "for res in all_results:\n",
    "    res['max_drawdown'] = get_max_drawdown(res['annual_data']['strategy'])"
   ]
  },
  {
   "cell_type": "code",
   "execution_count": 23,
   "metadata": {},
   "outputs": [],
   "source": [
    "# auxiliary function to print performance of a given strategy\n",
    "def print_strategy_performance(res):\n",
    "    print(\"----------------------------------------------------------------------------\")\n",
    "    res['annual_data'].plot()\n",
    "    plt.show()\n",
    "    for key, val in res.items():\n",
    "            if key in [\"x\", \"annual_data\", \"quarterly_data\"]:\n",
    "                continue\n",
    "            else:\n",
    "                print(key, \" = \", val)\n",
    "    print(\"----------------------------------------------------------------------------\")"
   ]
  },
  {
   "cell_type": "code",
   "execution_count": 24,
   "metadata": {},
   "outputs": [
    {
     "name": "stdout",
     "output_type": "stream",
     "text": [
      "Strategy with the smallest max_drawdown:\n",
      "----------------------------------------------------------------------------\n"
     ]
    },
    {
     "data": {
      "image/png": "[encoded data removed]",
      "text/plain": [
       "<Figure size 432x288 with 1 Axes>"
      ]
     },
     "metadata": {
      "needs_background": "light"
     },
     "output_type": "display_data"
    },
    {
     "name": "stdout",
     "output_type": "stream",
     "text": [
      "label_type_idx  =  2\n",
      "opt_feat_idx  =  3\n",
      "opt_feat_file  =  gb_opt_feat_3.pkl\n",
      "hyper_params  =  {'max_depth': 2, 'min_child_samples': 4000, 'n_estimators': 100, 'num_leaves': 15, 'reg_lambda': 0.0}\n",
      "Strategy Sharpe Ratio  =  0.9921295053837347\n",
      "SP Sharpe Ratio  =  0.5846194645603067\n",
      "Strategy total return  =  3.5871828798995566\n",
      "SPY total return  =  2.360200999999999\n",
      "Average annual return  =  0.08888889297056557\n",
      "SPY average annual return  =  0.058920280465017294\n",
      "beta  =  0.27363542663834534\n",
      "Information Ratio  =  0.9028402759029404\n",
      "Strategy alpha  =  0.14766557993004353\n",
      "max_drawdown  =  0.039287997424836255\n",
      "----------------------------------------------------------------------------\n"
     ]
    }
   ],
   "source": [
    "# find the smallest max drawdown among all strategies:\n",
    "all_drawdowns = np.array([res['max_drawdown'] for res in all_results])\n",
    "min_idx = np.argmin(all_drawdowns)\n",
    "opt_res = all_results[min_idx]\n",
    "print(\"Strategy with the smallest max_drawdown:\")\n",
    "print_strategy_performance(opt_res)"
   ]
  },
  {
   "cell_type": "markdown",
   "metadata": {},
   "source": [
    "In this case the strategy with the smallest drawdown has a Sharpe Ratio = 0.99 < 1. Let's see if we can find another strategy with Sharpe Ratio > 1, and a low max drawdown:"
   ]
  },
  {
   "cell_type": "code",
   "execution_count": 26,
   "metadata": {},
   "outputs": [
    {
     "data": {
      "text/plain": [
       "5"
      ]
     },
     "execution_count": 26,
     "metadata": {},
     "output_type": "execute_result"
    }
   ],
   "source": [
    "good_sharpe_ratio_results = [res for res in all_results if res['Strategy Sharpe Ratio'] > 1]\n",
    "len(good_sharpe_ratio_results)"
   ]
  },
  {
   "cell_type": "code",
   "execution_count": 27,
   "metadata": {},
   "outputs": [
    {
     "data": {
      "text/plain": [
       "[(1.0154592526718336, 0.058607087160490436),\n",
       " (1.0409787182899195, 0.046073362099976416),\n",
       " (1.0211124870385409, 0.05288889087005675),\n",
       " (1.0609854476664082, 0.06824235670643698),\n",
       " (1.0617687408041432, 0.06537493746089303)]"
      ]
     },
     "execution_count": 27,
     "metadata": {},
     "output_type": "execute_result"
    }
   ],
   "source": [
    "[(res['Strategy Sharpe Ratio'], res['max_drawdown']) for res in good_sharpe_ratio_results]"
   ]
  },
  {
   "cell_type": "code",
   "execution_count": 30,
   "metadata": {},
   "outputs": [
    {
     "name": "stdout",
     "output_type": "stream",
     "text": [
      "----------------------------------------------------------------------------\n"
     ]
    },
    {
     "data": {
      "image/png": "[encoded data removed]",
      "text/plain": [
       "<Figure size 432x288 with 1 Axes>"
      ]
     },
     "metadata": {
      "needs_background": "light"
     },
     "output_type": "display_data"
    },
    {
     "name": "stdout",
     "output_type": "stream",
     "text": [
      "label_type_idx  =  2\n",
      "opt_feat_idx  =  2\n",
      "opt_feat_file  =  gb_opt_feat_2.pkl\n",
      "hyper_params  =  {'max_depth': 2, 'min_child_samples': 4000, 'n_estimators': 100, 'num_leaves': 15, 'reg_lambda': 0.0}\n",
      "Strategy Sharpe Ratio  =  1.0409787182899195\n",
      "SP Sharpe Ratio  =  0.5846194645603067\n",
      "Strategy total return  =  4.700309982526714\n",
      "SPY total return  =  2.360200999999999\n",
      "Average annual return  =  0.10868566780413302\n",
      "SPY average annual return  =  0.058920280465017294\n",
      "beta  =  0.6479341934110251\n",
      "Information Ratio  =  0.893461438023969\n",
      "Strategy alpha  =  0.187932616314323\n",
      "max_drawdown  =  0.046073362099976416\n",
      "----------------------------------------------------------------------------\n"
     ]
    }
   ],
   "source": [
    "# in my opinion the second strategy in the list above has\n",
    "# the optimal combination of Sharpe Ratio and Max Drawdown\n",
    "best_strategy_lgb = good_sharpe_ratio_results[1]\n",
    "print_strategy_performance(best_strategy_lgb)"
   ]
  },
  {
   "cell_type": "markdown",
   "metadata": {},
   "source": [
    "# Step 2"
   ]
  },
  {
   "cell_type": "markdown",
   "metadata": {},
   "source": [
    "I will consider a combination of the best LightGB model (from this notebook, Step 1), the best RandomForest model, and the best AdaBoost model (from the AdaBoost_and_RandomForest.ipynb).\n",
    "\n",
    "When I say \"a combination of models\", I mean that we invest $x_1$ dollars into model 1, $x_2$ dollars into model 2, etc. But the sum has to be 1, i.e., $x_1$+$x_2$+$\\dots$=1\n",
    "\n",
    "In this approach, if we do not redistribute money among the models in the process, we can calculate the backtest curves independently for each model, and then just take a weighted combinaiton of the curves.\n",
    "\n",
    "Thus, I could just use the backtest curves for RF and AdaBoost, calculated in AdaBoost_and_RandomForest.ipynb, but I did not save them. Therefore, I will have to recalculate them below (with the optimal label types, hyperparameters, and features, found in AdaBoost_and_RandomForest.ipynb)."
   ]
  },
  {
   "cell_type": "code",
   "execution_count": 41,
   "metadata": {},
   "outputs": [],
   "source": [
    "# Best LGBM from this HW Problem 1:\n",
    "gb_label_type_idx = best_strategy_lgb['label_type_idx']\n",
    "gb_opt_feat_file = best_strategy_lgb['opt_feat_file']\n",
    "gb_clf = lgb.LGBMClassifier(objective=objectives[gb_label_type_idx-1],\n",
    "                                    n_jobs=-1, **best_strategy_lgb['hyper_params'])"
   ]
  },
  {
   "cell_type": "code",
   "execution_count": 42,
   "metadata": {},
   "outputs": [],
   "source": [
    "# Best RandomForest model from HW3 Problem 1:\n",
    "rf_label_type_idx  =  1\n",
    "rf_opt_feat_file  =  'opt_feat_6.pkl'\n",
    "rf_hyper_params  =  {'max_depth': 5, 'max_features': 'sqrt', 'min_samples_leaf': 1000,\n",
    "                     'n_estimators': 15}"
   ]
  },
  {
   "cell_type": "code",
   "execution_count": 46,
   "metadata": {},
   "outputs": [
    {
     "name": "stdout",
     "output_type": "stream",
     "text": [
      "Working on opt_feat_idx =  3 , label_type_idx =  1\n"
     ]
    }
   ],
   "source": [
    "# recalculating the backtest curve for RF:\n",
    "with open(f'../lecture5/opt_feature_files/{rf_opt_feat_file}','rb') as f:\n",
    "        optimal_features = pickle.load(f)\n",
    "label_type_idx = rf_label_type_idx\n",
    "print(\"Working on opt_feat_idx = \", opt_feat_idx, \", label_type_idx = \", label_type_idx)\n",
    "training_labels = [d[f'rel_performance{label_type_idx}'].values for d in training_frames]\n",
    "validation_labels = [d[f'rel_performance{label_type_idx}'].values for d in test_frames]\n",
    "hyper_params = rf_hyper_params\n",
    "rf_results = {\"label_type_idx\": label_type_idx, \"opt_feat_idx\": opt_feat_idx,\n",
    "           \"opt_feat_file\": f\"opt_feat_{opt_feat_idx}.pkl\",\n",
    "           \"hyper_params\": hyper_params}\n",
    "rf_clf = RandomForestClassifier(bootstrap=True, n_jobs=-1, **hyper_params)\n",
    "P_L = []\n",
    "x = [0,1]\n",
    "ret = []\n",
    "for i in range(1,len(optimal_features)-1):\n",
    "        rf_clf.fit(training_data[i][optimal_features[i-1]],training_labels[i])\n",
    "        pred_i = rf_clf.predict(test_data[i][optimal_features[i-1]])\n",
    "        profit_i = (pred_i * test_frames[i]['next_period_return']).sum()\n",
    "        positions = np.sum(np.abs(pred_i))\n",
    "        x.append(x[i] + (x[i]/positions) * profit_i)\n",
    "rf_results['x'] = x"
   ]
  },
  {
   "cell_type": "code",
   "execution_count": 44,
   "metadata": {},
   "outputs": [],
   "source": [
    "# Best AdaBoost model from HW3 Problem 2:\n",
    "ab_label_type_idx  =  2\n",
    "ab_opt_feat_file  =  'ada_opt_feat_3.pkl'\n",
    "ab_hyper_params  =  {'learning_rate': 0.1, 'n_estimators': 35}"
   ]
  },
  {
   "cell_type": "code",
   "execution_count": 47,
   "metadata": {},
   "outputs": [
    {
     "name": "stdout",
     "output_type": "stream",
     "text": [
      "Working on opt_feat_idx =  3 , label_type_idx =  2\n"
     ]
    }
   ],
   "source": [
    "# recalculating the backtest curve for AdaBoost\n",
    "with open(f'../lecture5/opt_feature_files/{ab_opt_feat_file}','rb') as f:\n",
    "        optimal_features = pickle.load(f)\n",
    "label_type_idx = ab_label_type_idx\n",
    "print(\"Working on opt_feat_idx = \", opt_feat_idx, \", label_type_idx = \", label_type_idx)\n",
    "training_labels = [d[f'rel_performance{label_type_idx}'].values for d in training_frames]\n",
    "validation_labels = [d[f'rel_performance{label_type_idx}'].values for d in test_frames]\n",
    "hyper_params = ab_hyper_params\n",
    "ab_results = {\"label_type_idx\": label_type_idx, \"opt_feat_idx\": opt_feat_idx,\n",
    "           \"opt_feat_file\": f\"ada_opt_feat_{opt_feat_idx}.pkl\",\n",
    "           \"hyper_params\": hyper_params}\n",
    "ada_clf = AdaBoostClassifier(DecisionTreeClassifier(max_depth=4), algorithm=\"SAMME.R\", **hyper_params)\n",
    "P_L = []\n",
    "x = [0,1]\n",
    "ret = []\n",
    "for i in range(1,len(optimal_features)-1):\n",
    "        ada_clf.fit(training_data[i][optimal_features[i-1]],training_labels[i])\n",
    "        pred_i = ada_clf.predict(test_data[i][optimal_features[i-1]])\n",
    "        profit_i = (pred_i * test_frames[i]['next_period_return']).sum()\n",
    "        positions = np.sum(np.abs(pred_i))\n",
    "        x.append(x[i] + (x[i]/positions) * profit_i)\n",
    "ab_results['x'] = x"
   ]
  },
  {
   "cell_type": "code",
   "execution_count": 53,
   "metadata": {},
   "outputs": [],
   "source": [
    "# recalculating the performance parameters for the RF and AdaBoost models from HW3:\n",
    "for results in [rf_results, ab_results]:\n",
    "    performance_from_x(results['x'], results)\n",
    "for res in [rf_results, ab_results]:\n",
    "    res['max_drawdown'] = get_max_drawdown(res['annual_data']['strategy'])"
   ]
  },
  {
   "cell_type": "code",
   "execution_count": 57,
   "metadata": {},
   "outputs": [
    {
     "name": "stdout",
     "output_type": "stream",
     "text": [
      "----------------------------------------------------------------------------\n"
     ]
    },
    {
     "data": {
      "image/png": "[encoded data removed]",
      "text/plain": [
       "<Figure size 432x288 with 1 Axes>"
      ]
     },
     "metadata": {
      "needs_background": "light"
     },
     "output_type": "display_data"
    },
    {
     "name": "stdout",
     "output_type": "stream",
     "text": [
      "label_type_idx  =  1\n",
      "opt_feat_idx  =  3\n",
      "opt_feat_file  =  opt_feat_3.pkl\n",
      "hyper_params  =  {'max_depth': 5, 'max_features': 'sqrt', 'min_samples_leaf': 1000, 'n_estimators': 15}\n",
      "Strategy Sharpe Ratio  =  1.0330717293116027\n",
      "SP Sharpe Ratio  =  0.5846194645603067\n",
      "Strategy total return  =  4.404125324540931\n",
      "SPY total return  =  2.360200999999999\n",
      "Average annual return  =  0.10388537083168847\n",
      "SPY average annual return  =  0.058920280465017294\n",
      "beta  =  0.46121809615534093\n",
      "Information Ratio  =  0.9153423004594956\n",
      "Strategy alpha  =  0.18511840059548934\n",
      "max_drawdown  =  0.10543808166325794\n",
      "----------------------------------------------------------------------------\n"
     ]
    }
   ],
   "source": [
    "# Random Forest strategy\n",
    "print_strategy_performance(rf_results)\n",
    "# the results may be a little bit different from HW3 because I didn't set random_state "
   ]
  },
  {
   "cell_type": "code",
   "execution_count": 58,
   "metadata": {},
   "outputs": [
    {
     "name": "stdout",
     "output_type": "stream",
     "text": [
      "----------------------------------------------------------------------------\n"
     ]
    },
    {
     "data": {
      "image/png": "[encoded data removed]",
      "text/plain": [
       "<Figure size 432x288 with 1 Axes>"
      ]
     },
     "metadata": {
      "needs_background": "light"
     },
     "output_type": "display_data"
    },
    {
     "name": "stdout",
     "output_type": "stream",
     "text": [
      "label_type_idx  =  2\n",
      "opt_feat_idx  =  3\n",
      "opt_feat_file  =  ada_opt_feat_3.pkl\n",
      "hyper_params  =  {'learning_rate': 0.1, 'n_estimators': 35}\n",
      "Strategy Sharpe Ratio  =  0.9405593192872512\n",
      "SP Sharpe Ratio  =  0.5846194645603067\n",
      "Strategy total return  =  3.2900600880896236\n",
      "SPY total return  =  2.360200999999999\n",
      "Average annual return  =  0.08263049350085261\n",
      "SPY average annual return  =  0.058920280465017294\n",
      "beta  =  0.44422535915054817\n",
      "Information Ratio  =  0.7801995664249727\n",
      "Strategy alpha  =  0.1123882873565126\n",
      "max_drawdown  =  0.07499325897578986\n",
      "----------------------------------------------------------------------------\n"
     ]
    }
   ],
   "source": [
    "# AdaBoost strategy\n",
    "print_strategy_performance(ab_results)\n",
    "# the results are a little bit different from HW3 because I didn't set random_state"
   ]
  },
  {
   "cell_type": "markdown",
   "metadata": {},
   "source": [
    "### Finally, now we can combine the three models:"
   ]
  },
  {
   "cell_type": "code",
   "execution_count": 68,
   "metadata": {},
   "outputs": [
    {
     "name": "stdout",
     "output_type": "stream",
     "text": [
      "----------------------------------------------------------------------------\n"
     ]
    },
    {
     "data": {
      "image/png": "[encoded data removed]",
      "text/plain": [
       "<Figure size 432x288 with 1 Axes>"
      ]
     },
     "metadata": {
      "needs_background": "light"
     },
     "output_type": "display_data"
    },
    {
     "name": "stdout",
     "output_type": "stream",
     "text": [
      "strategy 1  =  LightGB\n",
      "strategy 2  =  RandomForest\n",
      "strategy 3  =  AdaBoost\n",
      "weights  =  [0.3333333333333333, 0.3333333333333333, 0.3333333333333334]\n",
      "Strategy Sharpe Ratio  =  1.0737249656183983\n",
      "SP Sharpe Ratio  =  0.5846194645603067\n",
      "Strategy total return  =  4.131498465052423\n",
      "SPY total return  =  2.360200999999999\n",
      "Average annual return  =  0.09919271074141833\n",
      "SPY average annual return  =  0.058920280465017294\n",
      "beta  =  0.5177925495723044\n",
      "Information Ratio  =  0.9332040992029434\n",
      "Strategy alpha  =  0.16181310142210842\n",
      "max_drawdown  =  0.05053145057677004\n",
      "----------------------------------------------------------------------------\n",
      "----------------------------------------------------------------------------\n"
     ]
    },
    {
     "data": {
      "image/png": "[encoded data removed]",
      "text/plain": [
       "<Figure size 432x288 with 1 Axes>"
      ]
     },
     "metadata": {
      "needs_background": "light"
     },
     "output_type": "display_data"
    },
    {
     "name": "stdout",
     "output_type": "stream",
     "text": [
      "strategy 1  =  LightGB\n",
      "strategy 2  =  RandomForest\n",
      "strategy 3  =  AdaBoost\n",
      "weights  =  [0.6666666666666666, 0.3333333333333333, 5.551115123125783e-17]\n",
      "Strategy Sharpe Ratio  =  1.0498270618336782\n",
      "SP Sharpe Ratio  =  0.5846194645603067\n",
      "Strategy total return  =  4.601581763198119\n",
      "SPY total return  =  2.360200999999999\n",
      "Average annual return  =  0.10711773940497582\n",
      "SPY average annual return  =  0.058920280465017294\n",
      "beta  =  0.5856954943257969\n",
      "Information Ratio  =  0.9108695564704864\n",
      "Strategy alpha  =  0.1869945444080451\n",
      "max_drawdown  =  0.04230721491875286\n",
      "----------------------------------------------------------------------------\n",
      "----------------------------------------------------------------------------\n"
     ]
    },
    {
     "data": {
      "image/png": "[encoded data removed]",
      "text/plain": [
       "<Figure size 432x288 with 1 Axes>"
      ]
     },
     "metadata": {
      "needs_background": "light"
     },
     "output_type": "display_data"
    },
    {
     "name": "stdout",
     "output_type": "stream",
     "text": [
      "strategy 1  =  LightGB\n",
      "strategy 2  =  RandomForest\n",
      "strategy 3  =  AdaBoost\n",
      "weights  =  [0.3333333333333333, 0.6666666666666666, 1.1102230246251565e-16]\n",
      "Strategy Sharpe Ratio  =  1.0477628580270117\n",
      "SP Sharpe Ratio  =  0.5846194645603067\n",
      "Strategy total return  =  4.5028535438695245\n",
      "SPY total return  =  2.360200999999999\n",
      "Average annual return  =  0.1055180932722466\n",
      "SPY average annual return  =  0.058920280465017294\n",
      "beta  =  0.5234567952405689\n",
      "Information Ratio  =  0.9185245770629852\n",
      "Strategy alpha  =  0.18605647250176718\n",
      "max_drawdown  =  0.07317006383009919\n",
      "----------------------------------------------------------------------------\n",
      "----------------------------------------------------------------------------\n"
     ]
    },
    {
     "data": {
      "image/png": "[encoded data removed]",
      "text/plain": [
       "<Figure size 432x288 with 1 Axes>"
      ]
     },
     "metadata": {
      "needs_background": "light"
     },
     "output_type": "display_data"
    },
    {
     "name": "stdout",
     "output_type": "stream",
     "text": [
      "strategy 1  =  LightGB\n",
      "strategy 2  =  RandomForest\n",
      "strategy 3  =  AdaBoost\n",
      "weights  =  [0, 0.3333333333333333, 0.6666666666666667]\n",
      "Strategy Sharpe Ratio  =  1.0481223306399305\n",
      "SP Sharpe Ratio  =  0.5846194645603067\n",
      "Strategy total return  =  3.661415166906726\n",
      "SPY total return  =  2.360200999999999\n",
      "Average annual return  =  0.090376789941921\n",
      "SPY average annual return  =  0.058920280465017294\n",
      "beta  =  0.44988960481881207\n",
      "Information Ratio  =  0.9047289375150346\n",
      "Strategy alpha  =  0.13663165843617156\n",
      "max_drawdown  =  0.05998895727888341\n",
      "----------------------------------------------------------------------------\n",
      "----------------------------------------------------------------------------\n"
     ]
    },
    {
     "data": {
      "image/png": "[encoded data removed]",
      "text/plain": [
       "<Figure size 432x288 with 1 Axes>"
      ]
     },
     "metadata": {
      "needs_background": "light"
     },
     "output_type": "display_data"
    },
    {
     "name": "stdout",
     "output_type": "stream",
     "text": [
      "strategy 1  =  LightGB\n",
      "strategy 2  =  RandomForest\n",
      "strategy 3  =  AdaBoost\n",
      "weights  =  [0.3333333333333333, 0, 0.6666666666666667]\n",
      "Strategy Sharpe Ratio  =  1.0463259921317278\n",
      "SP Sharpe Ratio  =  0.5846194645603067\n",
      "Strategy total return  =  3.7601433862353204\n",
      "SPY total return  =  2.360200999999999\n",
      "Average annual return  =  0.092312642957872\n",
      "SPY average annual return  =  0.058920280465017294\n",
      "beta  =  0.5121283039040403\n",
      "Information Ratio  =  0.8924515538343573\n",
      "Strategy alpha  =  0.1375697303424494\n",
      "max_drawdown  =  0.06393797973512057\n",
      "----------------------------------------------------------------------------\n"
     ]
    }
   ],
   "source": [
    "# Since weights must add up to 1, we only need to specify two weights w1 and w2.\n",
    "# Up to two out of the three weights can even be negative (shorting).\n",
    "# Anyways, I will consider the following combinations of w1 and w2:\n",
    "w1w2_list = [\n",
    "    (1/3, 1/3), (2/3, 1/3), (1/3, 2/3), (0, 1/3), (1/3, 0)\n",
    "] \n",
    "for w1,w2 in w1w2_list:\n",
    "    w3 = 1-w1-w2\n",
    "    weights = [w1,w2,w3]\n",
    "    res_combined = {\"strategy 1\": \"LightGB\", \"strategy 2\": \"RandomForest\", \"strategy 3\": \"AdaBoost\",\n",
    "           \"weights\": weights}\n",
    "    x1 = np.array(best_strategy_lgb['x'])\n",
    "    x2 = np.array(rf_results['x'])\n",
    "    x3 = np.array(ab_results['x'])\n",
    "\n",
    "    x = w1*x1 + w2*x2 + w3*x3\n",
    "    performance_from_x(x, res_combined)\n",
    "    res_combined['max_drawdown'] = get_max_drawdown(res_combined['annual_data']['strategy'])\n",
    "    print_strategy_performance(res_combined)"
   ]
  },
  {
   "cell_type": "markdown",
   "metadata": {},
   "source": [
    "In my opinion, the first two strategies in the above cell have the best combinations of Sharpe Ratio and Max Drawdown, compared to the rest of considered combinations of weights."
   ]
  },
  {
   "cell_type": "code",
   "execution_count": null,
   "metadata": {},
   "outputs": [],
   "source": []
  }
 ],
 "metadata": {
  "kernelspec": {
   "display_name": "Python 3 (ipykernel)",
   "language": "python",
   "name": "python3"
  },
  "language_info": {
   "codemirror_mode": {
    "name": "ipython",
    "version": 3
   },
   "file_extension": ".py",
   "mimetype": "text/x-python",
   "name": "python",
   "nbconvert_exporter": "python",
   "pygments_lexer": "ipython3",
   "version": "3.9.12"
  },
  "latex_envs": {
   "LaTeX_envs_menu_present": true,
   "autoclose": false,
   "autocomplete": true,
   "bibliofile": "biblio.bib",
   "cite_by": "apalike",
   "current_citInitial": 1,
   "eqLabelWithNumbers": true,
   "eqNumInitial": 1,
   "hotkeys": {
    "equation": "Ctrl-E",
    "itemize": "Ctrl-I"
   },
   "labels_anchors": false,
   "latex_user_defs": false,
   "report_style_numbering": false,
   "user_envs_cfg": false
  }
 },
 "nbformat": 4,
 "nbformat_minor": 2
}
