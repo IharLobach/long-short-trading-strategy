{
 "cells": [
  {
   "cell_type": "markdown",
   "metadata": {},
   "source": [
    "# Grid search for hyperparameter optimization for AdaBoostClassifier and RandomForestClassifier. Backtesting the strategies, calculating Sharpe ratio and dropdown"
   ]
  },
  {
   "cell_type": "code",
   "execution_count": 36,
   "metadata": {
    "ExecuteTime": {
     "end_time": "2020-03-03T02:04:18.675044Z",
     "start_time": "2020-03-03T02:04:15.120387Z"
    }
   },
   "outputs": [],
   "source": [
    "import pandas as pd\n",
    "import numpy as np\n",
    "import matplotlib.pyplot as plt\n",
    "%matplotlib inline\n",
    "from sklearn.metrics import accuracy_score, confusion_matrix\n",
    "from sklearn.tree import DecisionTreeClassifier\n",
    "from sklearn.ensemble import AdaBoostClassifier, RandomForestClassifier\n",
    "pd.set_option('use_inf_as_na', True)\n",
    "from collections import Counter\n",
    "import pickle\n",
    "from datetime import datetime\n",
    "from sklearn.model_selection import PredefinedSplit\n",
    "from sklearn.model_selection import GridSearchCV"
   ]
  },
  {
   "cell_type": "markdown",
   "metadata": {},
   "source": [
    "General idea: I will try to run everything (different label types, different optimal features) in one nested loop. I will save the performance of the strategy for each case in a list, and then analyze that list."
   ]
  },
  {
   "cell_type": "code",
   "execution_count": 2,
   "metadata": {
    "ExecuteTime": {
     "end_time": "2020-03-03T02:04:21.903526Z",
     "start_time": "2020-03-03T02:04:19.923963Z"
    }
   },
   "outputs": [],
   "source": [
    "raw_data = pd.read_pickle(r'../lecture2/dataset.pkl')\n",
    "data = raw_data[raw_data['market_cap'] > 1000.0]\n",
    "data = data.copy()\n",
    "data.fillna(0.0,inplace=True)"
   ]
  },
  {
   "cell_type": "markdown",
   "metadata": {},
   "source": [
    "I will consider 3 different label types:\n",
    "1. (-1, 0, +1)\n",
    "2. (-1, +1)\n",
    "3. (-2, -1, 0, +1, +2)"
   ]
  },
  {
   "cell_type": "code",
   "execution_count": 3,
   "metadata": {
    "ExecuteTime": {
     "end_time": "2020-03-03T02:04:24.516696Z",
     "start_time": "2020-03-03T02:04:24.512695Z"
    }
   },
   "outputs": [],
   "source": [
    "def f1(x):\n",
    "    if x > 0.01:\n",
    "        return 1\n",
    "    elif x < -0.01:\n",
    "        return -1\n",
    "    else:\n",
    "        return 0\n",
    "\n",
    "def f2(x):\n",
    "    if x > 0:\n",
    "        return 1\n",
    "    else:\n",
    "        return -1\n",
    "\n",
    "def f3(x):\n",
    "    absx = abs(x)\n",
    "    signx = np.sign(x)\n",
    "    if absx > 0.05:\n",
    "        return signx*2\n",
    "    elif absx > 0.01:\n",
    "        return signx\n",
    "    else:\n",
    "        return 0"
   ]
  },
  {
   "cell_type": "code",
   "execution_count": 4,
   "metadata": {
    "ExecuteTime": {
     "end_time": "2020-03-03T02:04:30.421746Z",
     "start_time": "2020-03-03T02:04:30.370536Z"
    }
   },
   "outputs": [],
   "source": [
    "# adding all three kinds of labels to the data:\n",
    "data['rel_performance1'] = data['pred_rel_return'].apply(f1)\n",
    "data['rel_performance2'] = data['pred_rel_return'].apply(f2)\n",
    "data['rel_performance3'] = data['pred_rel_return'].apply(f3)\n",
    "data.reset_index(inplace=True)\n",
    "data.set_index('date',inplace=True)"
   ]
  },
  {
   "cell_type": "code",
   "execution_count": 5,
   "metadata": {},
   "outputs": [],
   "source": [
    "# as opposed to the lecture material, where we remove 'rel_performance', in this cell,\n",
    "# I remove the columns ['rel_performance1', 'rel_performance2', 'rel_performance3']\n",
    "# in the training and test data\n",
    "start_dates = [pd.to_datetime('2000-01-01') + pd.DateOffset(months = 3 * i) for i in range(62)]\n",
    "end_dates = [d + pd.DateOffset(months = 36) for d in start_dates]\n",
    "\n",
    "training_frames = [data.loc[d:d+pd.DateOffset(months = 36)] for d in start_dates]\n",
    "test_frames = [data.loc[d + pd.DateOffset(months=3):d+pd.DateOffset(months = 6)] for d in end_dates]\n",
    "\n",
    "training_data = [d.reset_index().drop\n",
    "                                 (['ticker','date',\n",
    "                                   'next_period_return',\n",
    "                                   'spy_next_period_return',\n",
    "                                   'rel_performance1', 'rel_performance2', 'rel_performance3', 'pred_rel_return',\n",
    "                                  'return', 'cum_ret', 'spy_cum_ret'],axis=1) for d in training_frames]\n",
    "\n",
    "test_data = [d.reset_index().drop(['ticker','date',\n",
    "                                   'next_period_return',\n",
    "                                   'spy_next_period_return',\n",
    "                                   'rel_performance1', 'rel_performance2', 'rel_performance3','pred_rel_return',\n",
    "                                  'return', 'cum_ret', 'spy_cum_ret'],axis=1) for d in test_frames]"
   ]
  },
  {
   "cell_type": "code",
   "execution_count": 6,
   "metadata": {
    "ExecuteTime": {
     "end_time": "2020-03-03T02:04:47.237618Z",
     "start_time": "2020-03-03T02:04:47.232614Z"
    }
   },
   "outputs": [],
   "source": [
    "# The formulation of the problem does not specify what hyper parameters grid should be used.\n",
    "# I will use the grid that we used in class:\n",
    "param_grid = {'n_estimators': [15,25,35,40], 'max_features': ['sqrt','log2',0.5,0.3],\n",
    "   'min_samples_leaf':[1000,1200,1800,2400], 'max_depth':[5,8,10,15]}"
   ]
  },
  {
   "cell_type": "markdown",
   "metadata": {},
   "source": [
    "## Step 1"
   ]
  },
  {
   "cell_type": "markdown",
   "metadata": {},
   "source": [
    "To find an optimal combination of hyper parameters for each choice of labels in this step, I will do a grid search using 2000--2003 as a training set and 2003-04-01--2003-07-01 as a validation set (using all features). This is what I do in the following cell:"
   ]
  },
  {
   "cell_type": "code",
   "execution_count": 13,
   "metadata": {},
   "outputs": [
    {
     "name": "stdout",
     "output_type": "stream",
     "text": [
      "Fitting 1 folds for each of 256 candidates, totalling 256 fits\n",
      "-----------------------------------------------------------------\n",
      "label_type_idx =  1\n",
      "optimal hyperparameters =  {'max_depth': 5, 'max_features': 'sqrt', 'min_samples_leaf': 1000, 'n_estimators': 15}\n",
      "score =  0.5949214026602176\n",
      "-----------------------------------------------------------------\n",
      "Fitting 1 folds for each of 256 candidates, totalling 256 fits\n",
      "-----------------------------------------------------------------\n",
      "label_type_idx =  2\n",
      "optimal hyperparameters =  {'max_depth': 5, 'max_features': 'sqrt', 'min_samples_leaf': 1000, 'n_estimators': 35}\n",
      "score =  0.6299879081015719\n",
      "-----------------------------------------------------------------\n",
      "Fitting 1 folds for each of 256 candidates, totalling 256 fits\n",
      "-----------------------------------------------------------------\n",
      "label_type_idx =  3\n",
      "optimal hyperparameters =  {'max_depth': 5, 'max_features': 'sqrt', 'min_samples_leaf': 1000, 'n_estimators': 15}\n",
      "score =  0.44740024183796856\n",
      "-----------------------------------------------------------------\n"
     ]
    }
   ],
   "source": [
    "np.random.seed(123)\n",
    "optimal_hyper_params = []\n",
    "for label_type_idx in range(1,4):\n",
    "    # here I choose label type (1,2, or 3) accroding to label_type_idx values chosen above\n",
    "    training_labels = [d[f'rel_performance{label_type_idx}'].values for d in training_frames]\n",
    "    validation_labels = [d[f'rel_performance{label_type_idx}'].values for d in test_frames]\n",
    "    \n",
    "    # gridsearch for best hyperparams:\n",
    "    train = training_data[0]\n",
    "    valid = test_data[0]\n",
    "    combined = pd.concat([train, valid])\n",
    "    y = np.append(training_labels[0], validation_labels[0])\n",
    "    indices = np.append(-np.ones(len(train)),np.zeros(len(valid)))\n",
    "    cv = PredefinedSplit(test_fold=indices)\n",
    "    clf = GridSearchCV(RandomForestClassifier(bootstrap=True),\n",
    "                   param_grid,cv=cv,n_jobs=-1,scoring='accuracy',verbose=3,\n",
    "                   return_train_score=True)\n",
    "    clf.fit(combined,y)\n",
    "    print(\"-----------------------------------------------------------------\")\n",
    "    print(\"label_type_idx = \", label_type_idx)\n",
    "    optimal_hyper_params.append(clf.best_params_)\n",
    "    print(\"optimal hyperparameters = \", clf.best_params_)\n",
    "    print(\"score = \", clf.best_score_)\n",
    "    print(\"-----------------------------------------------------------------\")"
   ]
  },
  {
   "cell_type": "code",
   "execution_count": 15,
   "metadata": {},
   "outputs": [
    {
     "data": {
      "text/plain": [
       "[{'max_depth': 5,\n",
       "  'max_features': 'sqrt',\n",
       "  'min_samples_leaf': 1000,\n",
       "  'n_estimators': 15},\n",
       " {'max_depth': 5,\n",
       "  'max_features': 'sqrt',\n",
       "  'min_samples_leaf': 1000,\n",
       "  'n_estimators': 35},\n",
       " {'max_depth': 5,\n",
       "  'max_features': 'sqrt',\n",
       "  'min_samples_leaf': 1000,\n",
       "  'n_estimators': 15}]"
      ]
     },
     "execution_count": 15,
     "metadata": {},
     "output_type": "execute_result"
    }
   ],
   "source": [
    "optimal_hyper_params"
   ]
  },
  {
   "cell_type": "markdown",
   "metadata": {},
   "source": [
    "Backtesting all the combinations of optimal features and label types (there is 6 opt_feat files, not 7):"
   ]
  },
  {
   "cell_type": "code",
   "execution_count": 20,
   "metadata": {},
   "outputs": [
    {
     "name": "stdout",
     "output_type": "stream",
     "text": [
      "Working on opt_feat_idx =  1 , label_type_idx =  1\n",
      "Working on opt_feat_idx =  1 , label_type_idx =  2\n",
      "Working on opt_feat_idx =  1 , label_type_idx =  3\n",
      "Working on opt_feat_idx =  2 , label_type_idx =  1\n",
      "Working on opt_feat_idx =  2 , label_type_idx =  2\n",
      "Working on opt_feat_idx =  2 , label_type_idx =  3\n",
      "Working on opt_feat_idx =  3 , label_type_idx =  1\n",
      "Working on opt_feat_idx =  3 , label_type_idx =  2\n",
      "Working on opt_feat_idx =  3 , label_type_idx =  3\n",
      "Working on opt_feat_idx =  4 , label_type_idx =  1\n",
      "Working on opt_feat_idx =  4 , label_type_idx =  2\n",
      "Working on opt_feat_idx =  4 , label_type_idx =  3\n",
      "Working on opt_feat_idx =  5 , label_type_idx =  1\n",
      "Working on opt_feat_idx =  5 , label_type_idx =  2\n",
      "Working on opt_feat_idx =  5 , label_type_idx =  3\n",
      "Working on opt_feat_idx =  6 , label_type_idx =  1\n",
      "Working on opt_feat_idx =  6 , label_type_idx =  2\n",
      "Working on opt_feat_idx =  6 , label_type_idx =  3\n"
     ]
    }
   ],
   "source": [
    "all_results = []\n",
    "for opt_feat_idx in range(1,7):\n",
    "    with open(f'opt_feature_files/opt_feat_{opt_feat_idx}.pkl','rb') as f:\n",
    "        optimal_features = pickle.load(f)\n",
    "    for label_type_idx in range(1,4):\n",
    "        # here I choose label type (1,2, or 3) accroding to label_type_idx values chosen above\n",
    "        print(\"Working on opt_feat_idx = \", opt_feat_idx, \", label_type_idx = \", label_type_idx)\n",
    "        training_labels = [d[f'rel_performance{label_type_idx}'].values for d in training_frames]\n",
    "        validation_labels = [d[f'rel_performance{label_type_idx}'].values for d in test_frames]\n",
    "        hyper_params = optimal_hyper_params[label_type_idx-1]\n",
    "        results = {\"label_type_idx\": label_type_idx, \"opt_feat_idx\": opt_feat_idx,\n",
    "                   \"opt_feat_file\": f\"opt_feat_{opt_feat_idx}.pkl\",\n",
    "                   \"hyper_params\": hyper_params}\n",
    "        rf_clf = RandomForestClassifier(bootstrap=True, n_jobs=-1, **hyper_params)\n",
    "        P_L = []\n",
    "        x = [0,1]\n",
    "        ret = []\n",
    "        for i in range(1,len(optimal_features)-1):\n",
    "                rf_clf.fit(training_data[i][optimal_features[i-1]],training_labels[i])\n",
    "                pred_i = rf_clf.predict(test_data[i][optimal_features[i-1]])\n",
    "                profit_i = (pred_i * test_frames[i]['next_period_return']).sum()\n",
    "                positions = np.sum(np.abs(pred_i))\n",
    "                x.append(x[i] + (x[i]/positions) * profit_i)\n",
    "        results['x'] = x\n",
    "        all_results.append(results)"
   ]
  },
  {
   "cell_type": "code",
   "execution_count": 21,
   "metadata": {},
   "outputs": [
    {
     "data": {
      "text/plain": [
       "18"
      ]
     },
     "execution_count": 21,
     "metadata": {},
     "output_type": "execute_result"
    }
   ],
   "source": [
    "len(all_results)"
   ]
  },
  {
   "cell_type": "markdown",
   "metadata": {},
   "source": [
    "Calculating the performance of all the considered strategies and saving the results in the list:"
   ]
  },
  {
   "cell_type": "code",
   "execution_count": 22,
   "metadata": {},
   "outputs": [],
   "source": [
    "SPY0 = pd.read_pickle(r'../lecture2/SPY_cum_ret.pkl')\n",
    "for results in all_results:\n",
    "    x = results['x']\n",
    "    SPY = SPY0.copy()\n",
    "    SPY = SPY.loc['2003-10-01':]\n",
    "    SPY = SPY.resample('Q').ffill()\n",
    "    SPY['spy_cum_ret'] = (SPY['spy_cum_ret'] - SPY['spy_cum_ret'][0] + 1)\n",
    "    SPY['strategy'] = x[1:]\n",
    "    results['quarterly_data'] = SPY.copy()\n",
    "    SPY = SPY.resample('A').bfill()\n",
    "    results['annual_data'] = SPY.copy()\n",
    "    strategy_mean_ret = (SPY['strategy'] - 1).diff().mean()\n",
    "    strategy_std = (SPY['strategy'] - 1).diff().std()\n",
    "    strategy_sr = strategy_mean_ret/strategy_std\n",
    "    results['Strategy Sharpe Ratio'] = strategy_sr\n",
    "    results['SP Sharpe Ratio'] = (SPY['spy_cum_ret'] - 1).diff().mean()/(SPY['spy_cum_ret'] - 1).diff().std()\n",
    "    results['Strategy total return'] = x[-1]\n",
    "    results['SPY total return'] = SPY['spy_cum_ret'][-1]\n",
    "    avr = np.exp(np.log(x[-1])/15.) - 1\n",
    "    results['Average annual return'] = avr\n",
    "    sp_avr = np.exp(np.log(SPY['spy_cum_ret'][-1])/15) - 1\n",
    "    results['SPY average annual return'] = sp_avr\n",
    "    strategy_ret = (SPY['strategy'] - 1).diff().values[1:]\n",
    "    spy_ret = (SPY['spy_cum_ret'] - 1).diff().values[1:]\n",
    "    beta = (np.cov(spy_ret,strategy_ret)/np.var(spy_ret))[1,0]\n",
    "    results['beta'] = beta\n",
    "    residual_ret = strategy_ret - beta * spy_ret\n",
    "    IR = np.mean(residual_ret)/np.std(residual_ret)\n",
    "    results['Information Ratio'] = IR\n",
    "    alpha = np.mean(residual_ret)\n",
    "    results['Strategy alpha'] = alpha"
   ]
  },
  {
   "cell_type": "code",
   "execution_count": 24,
   "metadata": {},
   "outputs": [
    {
     "data": {
      "text/plain": [
       "{'label_type_idx': 1,\n",
       " 'opt_feat_idx': 1,\n",
       " 'opt_feat_file': 'opt_feat_1.pkl',\n",
       " 'hyper_params': {'max_depth': 5,\n",
       "  'max_features': 'sqrt',\n",
       "  'min_samples_leaf': 1000,\n",
       "  'n_estimators': 15},\n",
       " 'x': [0,\n",
       "  1,\n",
       "  1.1047145721649485,\n",
       "  1.2257503912392116,\n",
       "  1.217668350318649,\n",
       "  1.1901856220393228,\n",
       "  1.2902336796503364,\n",
       "  1.392024981460798,\n",
       "  1.3717645398374083,\n",
       "  1.5229205526182588,\n",
       "  1.4999303522256966,\n",
       "  1.6647929627776432,\n",
       "  1.7541093483030963,\n",
       "  1.6667373900831708,\n",
       "  1.8249619115035531,\n",
       "  1.9430537505752856,\n",
       "  2.0480105368519856,\n",
       "  2.0126026927674685,\n",
       "  2.0320384194513177,\n",
       "  1.8969966271973089,\n",
       "  1.9654159046255542,\n",
       "  1.888988144687692,\n",
       "  1.360284330471187,\n",
       "  1.3552587631513788,\n",
       "  1.513165651758075,\n",
       "  1.6938837173645227,\n",
       "  1.758523503870029,\n",
       "  1.8685885680596113,\n",
       "  2.031735262600006,\n",
       "  1.9862000104846664,\n",
       "  2.1987671839033682,\n",
       "  2.459398482042046,\n",
       "  2.5618741625784,\n",
       "  2.3279754956373697,\n",
       "  2.329881439955212,\n",
       "  2.5876911843343726,\n",
       "  2.5885233448093485,\n",
       "  2.5680897908859697,\n",
       "  2.674423953285782,\n",
       "  2.869082052800775,\n",
       "  2.9915963685462317,\n",
       "  3.1991020776954344,\n",
       "  3.3301275842563274,\n",
       "  3.4816423386012367,\n",
       "  3.4738383405381454,\n",
       "  3.544249982910365,\n",
       "  3.5911026828475574,\n",
       "  3.693665660813091,\n",
       "  3.7068480296142727,\n",
       "  3.790581654416842,\n",
       "  3.76251193920028,\n",
       "  3.760052811228856,\n",
       "  3.6897513048384636,\n",
       "  3.5551473815589882,\n",
       "  3.587913364598021,\n",
       "  3.4909466524286645,\n",
       "  3.5442743213866215,\n",
       "  3.577388244345788,\n",
       "  3.561068071292587,\n",
       "  3.69339285410336,\n",
       "  3.6780163870088383,\n",
       "  3.649984543264987],\n",
       " 'quarterly_data':             spy_cum_ret  strategy\n",
       " date                             \n",
       " 2003-12-31     1.000000  1.000000\n",
       " 2004-03-31     1.021474  1.104715\n",
       " 2004-06-30     1.039305  1.225750\n",
       " 2004-09-30     1.020484  1.217668\n",
       " 2004-12-31     1.107865  1.190186\n",
       " ...                 ...       ...\n",
       " 2017-12-31     2.392402  3.577388\n",
       " 2018-03-31     2.387208  3.561068\n",
       " 2018-06-30     2.424032  3.693393\n",
       " 2018-09-30     2.498418  3.678016\n",
       " 2018-12-31     2.360201  3.649985\n",
       " \n",
       " [61 rows x 2 columns],\n",
       " 'annual_data':             spy_cum_ret  strategy\n",
       " date                             \n",
       " 2003-12-31     1.000000  1.000000\n",
       " 2004-12-31     1.107865  1.190186\n",
       " 2005-12-31     1.160316  1.522921\n",
       " 2006-12-31     1.312439  1.666737\n",
       " 2007-12-31     1.375107  2.012603\n",
       " 2008-12-31     1.001322  1.888988\n",
       " 2009-12-31     1.270714  1.693884\n",
       " 2010-12-31     1.427042  1.986200\n",
       " 2011-12-31     1.472251  2.327975\n",
       " 2012-12-31     1.628635  2.568090\n",
       " 2013-12-31     1.914856  3.199102\n",
       " 2014-12-31     2.047496  3.544250\n",
       " 2015-12-31     2.071800  3.790582\n",
       " 2016-12-31     2.193680  3.555147\n",
       " 2017-12-31     2.392402  3.577388\n",
       " 2018-12-31     2.360201  3.649985,\n",
       " 'Strategy Sharpe Ratio': 0.7525889599114212,\n",
       " 'SP Sharpe Ratio': 0.5846194645603067,\n",
       " 'Strategy total return': 3.649984543264987,\n",
       " 'SPY total return': 2.360200999999999,\n",
       " 'Average annual return': 0.09014952113970498,\n",
       " 'SPY average annual return': 0.058920280465017294,\n",
       " 'beta': 0.4431911321442158,\n",
       " 'Information Ratio': 0.6254854329612081,\n",
       " 'Strategy alpha': 0.13647703480875284}"
      ]
     },
     "execution_count": 24,
     "metadata": {},
     "output_type": "execute_result"
    }
   ],
   "source": [
    "all_results[0]"
   ]
  },
  {
   "cell_type": "markdown",
   "metadata": {},
   "source": [
    "### Creating a function to find max yearly drawdown"
   ]
  },
  {
   "cell_type": "code",
   "execution_count": 25,
   "metadata": {},
   "outputs": [
    {
     "data": {
      "text/plain": [
       "<AxesSubplot:xlabel='date'>"
      ]
     },
     "execution_count": 25,
     "metadata": {},
     "output_type": "execute_result"
    },
    {
     "data": {
      "image/png": "[encoded data removed]",
      "text/plain": [
       "<Figure size 432x288 with 1 Axes>"
      ]
     },
     "metadata": {
      "needs_background": "light"
     },
     "output_type": "display_data"
    }
   ],
   "source": [
    "# let's use first combination of parameters as an example\n",
    "all_results[0]['annual_data'].plot()"
   ]
  },
  {
   "cell_type": "markdown",
   "metadata": {},
   "source": [
    "I will make my own function for max drawdown calculation:\n",
    "\n",
    "I use the fact that in the region between a local max and the **next** local min, the slope of the curve is negative, by definition. Thus, I find the regions (start_index, end_index) where the slope is negative. Then, a drawdown is just the drop in each such region. Then, I divide the absolute drop by the value of the curve at the beginning of the drop. I think a relative drop is more relevant to characterize how anxious investors are."
   ]
  },
  {
   "cell_type": "code",
   "execution_count": 26,
   "metadata": {},
   "outputs": [
    {
     "data": {
      "text/plain": [
       "[(4, 6), (12, 13)]"
      ]
     },
     "execution_count": 26,
     "metadata": {},
     "output_type": "execute_result"
    }
   ],
   "source": [
    "# this cell finds index ranges of return drops\n",
    "ys = all_results[0]['annual_data']['strategy']\n",
    "diff = ys.diff().fillna(0)\n",
    "drawdown_indexes = [] # list of tuples (start_of_drop, end_of_drop)\n",
    "i = 0\n",
    "while i < len(ys):\n",
    "    if diff[i] < 0: # find the beginning of drop\n",
    "        start_idx = i-1\n",
    "        while i < len(ys) and diff[i] < 0: # go on until the end of the drop\n",
    "            i += 1\n",
    "        end_idx = i-1\n",
    "        drawdown_indexes.append((start_idx, end_idx))\n",
    "    else:\n",
    "        i += 1\n",
    "drawdown_indexes"
   ]
  },
  {
   "cell_type": "code",
   "execution_count": 27,
   "metadata": {},
   "outputs": [
    {
     "data": {
      "text/plain": [
       "[0.15836159642849582, 0.06211032878912456]"
      ]
     },
     "execution_count": 27,
     "metadata": {},
     "output_type": "execute_result"
    }
   ],
   "source": [
    "drawdowns = [(ys[start_idx]-ys[end_idx])/ys[start_idx] for start_idx, end_idx in drawdown_indexes]\n",
    "drawdowns"
   ]
  },
  {
   "cell_type": "code",
   "execution_count": 28,
   "metadata": {},
   "outputs": [],
   "source": [
    "# The above calculation of drawdown seems to work. Let us define it as a funciton:\n",
    "def get_max_drawdown(ys):\n",
    "    diff = ys.diff().fillna(0)\n",
    "    drawdown_indexes = [] # list of tuples (start_of_drop, end_of_drop)\n",
    "    i = 0\n",
    "    while i < len(ys):\n",
    "        if diff[i] < 0: # find the beginning of drop\n",
    "            start_idx = i-1\n",
    "            while i < len(ys) and diff[i] < 0: # go on until the end of the drop\n",
    "                i += 1\n",
    "            end_idx = i-1\n",
    "            drawdown_indexes.append((start_idx, end_idx))\n",
    "        else:\n",
    "            i += 1\n",
    "    drawdowns = [(ys[start_idx]-ys[end_idx])/ys[start_idx] for start_idx, end_idx in drawdown_indexes]\n",
    "    max_drawdown = max(drawdowns) if len(drawdowns) else 0 # no drawdowns is a possibility\n",
    "    return max_drawdown"
   ]
  },
  {
   "cell_type": "code",
   "execution_count": 29,
   "metadata": {},
   "outputs": [],
   "source": [
    "# calculate max drawdown for all strategies:\n",
    "for res in all_results:\n",
    "    res['max_drawdown'] = get_max_drawdown(res['annual_data']['strategy'])"
   ]
  },
  {
   "cell_type": "code",
   "execution_count": 34,
   "metadata": {},
   "outputs": [],
   "source": [
    "# auxiliary function to print performance of a given strategy\n",
    "def print_strategy_performance(res):\n",
    "    print(\"----------------------------------------------------------------------------\")\n",
    "    res['annual_data'].plot()\n",
    "    plt.show()\n",
    "    for key, val in res.items():\n",
    "            if key in [\"x\", \"annual_data\", \"quarterly_data\"]:\n",
    "                continue\n",
    "            else:\n",
    "                print(key, \" = \", val)\n",
    "    print(\"----------------------------------------------------------------------------\")"
   ]
  },
  {
   "cell_type": "code",
   "execution_count": 35,
   "metadata": {},
   "outputs": [
    {
     "name": "stdout",
     "output_type": "stream",
     "text": [
      "Strategy with the smallest max_drawdown:\n",
      "----------------------------------------------------------------------------\n"
     ]
    },
    {
     "data": {
      "image/png": "[encoded data removed]",
      "text/plain": [
       "<Figure size 432x288 with 1 Axes>"
      ]
     },
     "metadata": {
      "needs_background": "light"
     },
     "output_type": "display_data"
    },
    {
     "name": "stdout",
     "output_type": "stream",
     "text": [
      "label_type_idx  =  1\n",
      "opt_feat_idx  =  6\n",
      "opt_feat_file  =  opt_feat_6.pkl\n",
      "hyper_params  =  {'max_depth': 5, 'max_features': 'sqrt', 'min_samples_leaf': 1000, 'n_estimators': 15}\n",
      "Strategy Sharpe Ratio  =  1.2237697383365584\n",
      "SP Sharpe Ratio  =  0.5846194645603067\n",
      "Strategy total return  =  4.773721331685418\n",
      "SPY total return  =  2.360200999999999\n",
      "Average annual return  =  0.10983173115138034\n",
      "SPY average annual return  =  0.058920280465017294\n",
      "beta  =  0.5528650803085445\n",
      "Information Ratio  =  1.100678713383442\n",
      "Strategy alpha  =  0.2014475797723104\n",
      "max_drawdown  =  0.06320824255475331\n",
      "----------------------------------------------------------------------------\n"
     ]
    }
   ],
   "source": [
    "# find the smallest max drawdown among all strategies:\n",
    "all_drawdowns = np.array([res['max_drawdown'] for res in all_results])\n",
    "min_idx = np.argmin(all_drawdowns)\n",
    "opt_res = all_results[min_idx]\n",
    "print(\"Strategy with the smallest max_drawdown:\")\n",
    "print_strategy_performance(opt_res)"
   ]
  },
  {
   "cell_type": "markdown",
   "metadata": {},
   "source": [
    "Luckily the above strategy also has a good Sharpe Ratio (>1). Thus, this strategy is the answer to Step 1 --- small drawdown and good Sharpe ratio"
   ]
  },
  {
   "cell_type": "markdown",
   "metadata": {},
   "source": [
    "## Step 2"
   ]
  },
  {
   "cell_type": "markdown",
   "metadata": {},
   "source": [
    "Almost everything will be the same as in Step 1. Just a differrent model, a different  ```param_grid```, and different optimal features files."
   ]
  },
  {
   "cell_type": "code",
   "execution_count": 37,
   "metadata": {},
   "outputs": [],
   "source": [
    "# I will consider the following grid of values of n_estimators and learning_rate:\n",
    "param_grid = {'n_estimators': [15,25,35,40], 'learning_rate': [0.01, 0.1, 0.5, 0.75]}"
   ]
  },
  {
   "cell_type": "code",
   "execution_count": 38,
   "metadata": {},
   "outputs": [
    {
     "name": "stdout",
     "output_type": "stream",
     "text": [
      "Fitting 1 folds for each of 16 candidates, totalling 16 fits\n",
      "-----------------------------------------------------------------\n",
      "label_type_idx =  1\n",
      "optimal hyperparameters =  {'learning_rate': 0.1, 'n_estimators': 25}\n",
      "score =  0.562273276904474\n",
      "-----------------------------------------------------------------\n",
      "Fitting 1 folds for each of 16 candidates, totalling 16 fits\n",
      "-----------------------------------------------------------------\n",
      "label_type_idx =  2\n",
      "optimal hyperparameters =  {'learning_rate': 0.1, 'n_estimators': 35}\n",
      "score =  0.592503022974607\n",
      "-----------------------------------------------------------------\n",
      "Fitting 1 folds for each of 16 candidates, totalling 16 fits\n",
      "-----------------------------------------------------------------\n",
      "label_type_idx =  3\n",
      "optimal hyperparameters =  {'learning_rate': 0.1, 'n_estimators': 25}\n",
      "score =  0.42563482466747277\n",
      "-----------------------------------------------------------------\n"
     ]
    }
   ],
   "source": [
    "np.random.seed(123)\n",
    "optimal_hyper_params = []\n",
    "for label_type_idx in range(1,4):\n",
    "    # here I choose label type (1,2, or 3) accroding to label_type_idx values chosen above\n",
    "    training_labels = [d[f'rel_performance{label_type_idx}'].values for d in training_frames]\n",
    "    validation_labels = [d[f'rel_performance{label_type_idx}'].values for d in test_frames]\n",
    "    \n",
    "    # gridsearch for best hyperparams:\n",
    "    train = training_data[0]\n",
    "    valid = test_data[0]\n",
    "    combined = pd.concat([train, valid])\n",
    "    y = np.append(training_labels[0], validation_labels[0])\n",
    "    indices = np.append(-np.ones(len(train)),np.zeros(len(valid)))\n",
    "    cv = PredefinedSplit(test_fold=indices)\n",
    "    clf = GridSearchCV(AdaBoostClassifier(DecisionTreeClassifier(max_depth=4), algorithm=\"SAMME.R\"),\n",
    "                   param_grid,cv=cv,n_jobs=-1,scoring='accuracy',verbose=3,\n",
    "                   return_train_score=True)\n",
    "    clf.fit(combined,y)\n",
    "    print(\"-----------------------------------------------------------------\")\n",
    "    print(\"label_type_idx = \", label_type_idx)\n",
    "    optimal_hyper_params.append(clf.best_params_)\n",
    "    print(\"optimal hyperparameters = \", clf.best_params_)\n",
    "    print(\"score = \", clf.best_score_)\n",
    "    print(\"-----------------------------------------------------------------\")"
   ]
  },
  {
   "cell_type": "markdown",
   "metadata": {},
   "source": [
    "Backtesting all the combinations of optimal features and label types (oddly there is no ```ada_opt_feat_2.pkl```):"
   ]
  },
  {
   "cell_type": "code",
   "execution_count": 41,
   "metadata": {},
   "outputs": [
    {
     "name": "stdout",
     "output_type": "stream",
     "text": [
      "Working on opt_feat_idx =  1 , label_type_idx =  1\n",
      "Working on opt_feat_idx =  1 , label_type_idx =  2\n",
      "Working on opt_feat_idx =  1 , label_type_idx =  3\n",
      "Working on opt_feat_idx =  3 , label_type_idx =  1\n",
      "Working on opt_feat_idx =  3 , label_type_idx =  2\n",
      "Working on opt_feat_idx =  3 , label_type_idx =  3\n",
      "Working on opt_feat_idx =  4 , label_type_idx =  1\n",
      "Working on opt_feat_idx =  4 , label_type_idx =  2\n",
      "Working on opt_feat_idx =  4 , label_type_idx =  3\n",
      "Working on opt_feat_idx =  5 , label_type_idx =  1\n",
      "Working on opt_feat_idx =  5 , label_type_idx =  2\n",
      "Working on opt_feat_idx =  5 , label_type_idx =  3\n",
      "Working on opt_feat_idx =  6 , label_type_idx =  1\n",
      "Working on opt_feat_idx =  6 , label_type_idx =  2\n",
      "Working on opt_feat_idx =  6 , label_type_idx =  3\n"
     ]
    }
   ],
   "source": [
    "all_results = []\n",
    "for opt_feat_idx in [1,3,4,5,6]:\n",
    "    with open(f'opt_feature_files/ada_opt_feat_{opt_feat_idx}.pkl','rb') as f:\n",
    "        optimal_features = pickle.load(f)\n",
    "    for label_type_idx in range(1,4):\n",
    "        # here I choose label type (1,2, or 3) accroding to label_type_idx values chosen above\n",
    "        print(\"Working on opt_feat_idx = \", opt_feat_idx, \", label_type_idx = \", label_type_idx)\n",
    "        training_labels = [d[f'rel_performance{label_type_idx}'].values for d in training_frames]\n",
    "        validation_labels = [d[f'rel_performance{label_type_idx}'].values for d in test_frames]\n",
    "        hyper_params = optimal_hyper_params[label_type_idx-1]\n",
    "        results = {\"label_type_idx\": label_type_idx, \"opt_feat_idx\": opt_feat_idx,\n",
    "                   \"opt_feat_file\": f\"ada_opt_feat_{opt_feat_idx}.pkl\",\n",
    "                   \"hyper_params\": hyper_params}\n",
    "        ada_clf = AdaBoostClassifier(DecisionTreeClassifier(max_depth=4), algorithm=\"SAMME.R\", **hyper_params)\n",
    "        P_L = []\n",
    "        x = [0,1]\n",
    "        ret = []\n",
    "        for i in range(1,len(optimal_features)-1):\n",
    "                ada_clf.fit(training_data[i][optimal_features[i-1]],training_labels[i])\n",
    "                pred_i = ada_clf.predict(test_data[i][optimal_features[i-1]])\n",
    "                profit_i = (pred_i * test_frames[i]['next_period_return']).sum()\n",
    "                positions = np.sum(np.abs(pred_i))\n",
    "                x.append(x[i] + (x[i]/positions) * profit_i)\n",
    "        results['x'] = x\n",
    "        all_results.append(results)"
   ]
  },
  {
   "cell_type": "code",
   "execution_count": 42,
   "metadata": {},
   "outputs": [
    {
     "data": {
      "text/plain": [
       "15"
      ]
     },
     "execution_count": 42,
     "metadata": {},
     "output_type": "execute_result"
    }
   ],
   "source": [
    "len(all_results)"
   ]
  },
  {
   "cell_type": "markdown",
   "metadata": {},
   "source": [
    "Calculating the performance of all the considered strategies and saving the results in the list:"
   ]
  },
  {
   "cell_type": "code",
   "execution_count": 43,
   "metadata": {},
   "outputs": [],
   "source": [
    "SPY0 = pd.read_pickle(r'../lecture2/SPY_cum_ret.pkl')\n",
    "for results in all_results:\n",
    "    x = results['x']\n",
    "    SPY = SPY0.copy()\n",
    "    SPY = SPY.loc['2003-10-01':]\n",
    "    SPY = SPY.resample('Q').ffill()\n",
    "    SPY['spy_cum_ret'] = (SPY['spy_cum_ret'] - SPY['spy_cum_ret'][0] + 1)\n",
    "    SPY['strategy'] = x[1:]\n",
    "    results['quarterly_data'] = SPY.copy()\n",
    "    SPY = SPY.resample('A').bfill()\n",
    "    results['annual_data'] = SPY.copy()\n",
    "    strategy_mean_ret = (SPY['strategy'] - 1).diff().mean()\n",
    "    strategy_std = (SPY['strategy'] - 1).diff().std()\n",
    "    strategy_sr = strategy_mean_ret/strategy_std\n",
    "    results['Strategy Sharpe Ratio'] = strategy_sr\n",
    "    results['SP Sharpe Ratio'] = (SPY['spy_cum_ret'] - 1).diff().mean()/(SPY['spy_cum_ret'] - 1).diff().std()\n",
    "    results['Strategy total return'] = x[-1]\n",
    "    results['SPY total return'] = SPY['spy_cum_ret'][-1]\n",
    "    avr = np.exp(np.log(x[-1])/15.) - 1\n",
    "    results['Average annual return'] = avr\n",
    "    sp_avr = np.exp(np.log(SPY['spy_cum_ret'][-1])/15) - 1\n",
    "    results['SPY average annual return'] = sp_avr\n",
    "    strategy_ret = (SPY['strategy'] - 1).diff().values[1:]\n",
    "    spy_ret = (SPY['spy_cum_ret'] - 1).diff().values[1:]\n",
    "    beta = (np.cov(spy_ret,strategy_ret)/np.var(spy_ret))[1,0]\n",
    "    results['beta'] = beta\n",
    "    residual_ret = strategy_ret - beta * spy_ret\n",
    "    IR = np.mean(residual_ret)/np.std(residual_ret)\n",
    "    results['Information Ratio'] = IR\n",
    "    alpha = np.mean(residual_ret)\n",
    "    results['Strategy alpha'] = alpha"
   ]
  },
  {
   "cell_type": "code",
   "execution_count": 44,
   "metadata": {},
   "outputs": [
    {
     "data": {
      "text/plain": [
       "{'label_type_idx': 1,\n",
       " 'opt_feat_idx': 1,\n",
       " 'opt_feat_file': 'ada_opt_feat_1.pkl',\n",
       " 'hyper_params': {'learning_rate': 0.1, 'n_estimators': 25},\n",
       " 'x': [0,\n",
       "  1,\n",
       "  1.096894410548087,\n",
       "  1.2142098577941265,\n",
       "  1.207222564230056,\n",
       "  1.1966864711907188,\n",
       "  1.2915446377723308,\n",
       "  1.393667804118286,\n",
       "  1.374343095737826,\n",
       "  1.508592526456613,\n",
       "  1.4865698927343454,\n",
       "  1.637747109634026,\n",
       "  1.7200876567038728,\n",
       "  1.653753784853117,\n",
       "  1.801064682718662,\n",
       "  1.9169977875006141,\n",
       "  2.0215377325865225,\n",
       "  1.9954706841091894,\n",
       "  2.029640954751429,\n",
       "  1.879242420175111,\n",
       "  1.9528017147949877,\n",
       "  1.8713387391060714,\n",
       "  1.3268752376152277,\n",
       "  1.310591062386336,\n",
       "  1.4513100653076705,\n",
       "  1.673482132989186,\n",
       "  1.8005073602698776,\n",
       "  1.8896785633551714,\n",
       "  2.079560757568265,\n",
       "  2.011978909873719,\n",
       "  2.217318730904538,\n",
       "  2.4653827708401255,\n",
       "  2.5657024305076854,\n",
       "  2.347076603785767,\n",
       "  2.3660133275511432,\n",
       "  2.5872240146296326,\n",
       "  2.591400586993454,\n",
       "  2.5639024892091005,\n",
       "  2.64064091731583,\n",
       "  2.89323664858851,\n",
       "  3.029134465669702,\n",
       "  3.062206357646934,\n",
       "  3.182042615286405,\n",
       "  3.2978792580304774,\n",
       "  3.3255606151756596,\n",
       "  3.3763126804478256,\n",
       "  3.438407358230568,\n",
       "  3.542502050101545,\n",
       "  3.4914023619057026,\n",
       "  3.518003717912477,\n",
       "  3.4906278978302385,\n",
       "  3.251400918628536,\n",
       "  3.2398904903926664,\n",
       "  3.068631714509242,\n",
       "  3.075382586374654,\n",
       "  3.248974649751468,\n",
       "  3.2753645155381137,\n",
       "  3.366254150580476,\n",
       "  3.369055951297628,\n",
       "  3.4614679969484503,\n",
       "  3.442409381086364,\n",
       "  3.510373610700613],\n",
       " 'quarterly_data':             spy_cum_ret  strategy\n",
       " date                             \n",
       " 2003-12-31     1.000000  1.000000\n",
       " 2004-03-31     1.021474  1.096894\n",
       " 2004-06-30     1.039305  1.214210\n",
       " 2004-09-30     1.020484  1.207223\n",
       " 2004-12-31     1.107865  1.196686\n",
       " ...                 ...       ...\n",
       " 2017-12-31     2.392402  3.366254\n",
       " 2018-03-31     2.387208  3.369056\n",
       " 2018-06-30     2.424032  3.461468\n",
       " 2018-09-30     2.498418  3.442409\n",
       " 2018-12-31     2.360201  3.510374\n",
       " \n",
       " [61 rows x 2 columns],\n",
       " 'annual_data':             spy_cum_ret  strategy\n",
       " date                             \n",
       " 2003-12-31     1.000000  1.000000\n",
       " 2004-12-31     1.107865  1.196686\n",
       " 2005-12-31     1.160316  1.508593\n",
       " 2006-12-31     1.312439  1.653754\n",
       " 2007-12-31     1.375107  1.995471\n",
       " 2008-12-31     1.001322  1.871339\n",
       " 2009-12-31     1.270714  1.673482\n",
       " 2010-12-31     1.427042  2.011979\n",
       " 2011-12-31     1.472251  2.347077\n",
       " 2012-12-31     1.628635  2.563902\n",
       " 2013-12-31     1.914856  3.062206\n",
       " 2014-12-31     2.047496  3.376313\n",
       " 2015-12-31     2.071800  3.518004\n",
       " 2016-12-31     2.193680  3.068632\n",
       " 2017-12-31     2.392402  3.366254\n",
       " 2018-12-31     2.360201  3.510374,\n",
       " 'Strategy Sharpe Ratio': 0.6750684035740407,\n",
       " 'SP Sharpe Ratio': 0.5846194645603067,\n",
       " 'Strategy total return': 3.510373610700613,\n",
       " 'SPY total return': 2.360200999999999,\n",
       " 'Average annual return': 0.08731878060833109,\n",
       " 'SPY average annual return': 0.058920280465017294,\n",
       " 'beta': 0.43251168592978967,\n",
       " 'Information Ratio': 0.5528383108876057,\n",
       " 'Strategy alpha': 0.1281380521991485}"
      ]
     },
     "execution_count": 44,
     "metadata": {},
     "output_type": "execute_result"
    }
   ],
   "source": [
    "all_results[0]"
   ]
  },
  {
   "cell_type": "code",
   "execution_count": 45,
   "metadata": {},
   "outputs": [],
   "source": [
    "# calculate max drawdown for all strategies:\n",
    "for res in all_results:\n",
    "    res['max_drawdown'] = get_max_drawdown(res['annual_data']['strategy'])"
   ]
  },
  {
   "cell_type": "code",
   "execution_count": 46,
   "metadata": {},
   "outputs": [],
   "source": [
    "# auxiliary function to print performance of a given strategy\n",
    "def print_strategy_performance(res):\n",
    "    print(\"----------------------------------------------------------------------------\")\n",
    "    res['annual_data'].plot()\n",
    "    plt.show()\n",
    "    for key, val in res.items():\n",
    "            if key in [\"x\", \"annual_data\", \"quarterly_data\"]:\n",
    "                continue\n",
    "            else:\n",
    "                print(key, \" = \", val)\n",
    "    print(\"----------------------------------------------------------------------------\")"
   ]
  },
  {
   "cell_type": "code",
   "execution_count": 47,
   "metadata": {},
   "outputs": [
    {
     "name": "stdout",
     "output_type": "stream",
     "text": [
      "Strategy with the smallest max_drawdown:\n",
      "----------------------------------------------------------------------------\n"
     ]
    },
    {
     "data": {
      "image/png": "[encoded data removed]",
      "text/plain": [
       "<Figure size 432x288 with 1 Axes>"
      ]
     },
     "metadata": {
      "needs_background": "light"
     },
     "output_type": "display_data"
    },
    {
     "name": "stdout",
     "output_type": "stream",
     "text": [
      "label_type_idx  =  2\n",
      "opt_feat_idx  =  4\n",
      "opt_feat_file  =  ada_opt_feat_4.pkl\n",
      "hyper_params  =  {'learning_rate': 0.1, 'n_estimators': 35}\n",
      "Strategy Sharpe Ratio  =  0.8938720311763565\n",
      "SP Sharpe Ratio  =  0.5846194645603067\n",
      "Strategy total return  =  3.604564356442271\n",
      "SPY total return  =  2.360200999999999\n",
      "Average annual return  =  0.08923984307745614\n",
      "SPY average annual return  =  0.058920280465017294\n",
      "beta  =  0.45109052165941643\n",
      "Information Ratio  =  0.7507444598362346\n",
      "Strategy alpha  =  0.13273270518604077\n",
      "max_drawdown  =  0.05554181024161462\n",
      "----------------------------------------------------------------------------\n"
     ]
    }
   ],
   "source": [
    "# find the smallest max drawdown among all strategies:\n",
    "all_drawdowns = np.array([res['max_drawdown'] for res in all_results])\n",
    "min_idx = np.argmin(all_drawdowns)\n",
    "opt_res = all_results[min_idx]\n",
    "print(\"Strategy with the smallest max_drawdown:\")\n",
    "print_strategy_performance(opt_res)"
   ]
  },
  {
   "cell_type": "markdown",
   "metadata": {},
   "source": [
    "In this case the strategy with the smallest drawdown has a Sharpe Ratio = 0.89 < 1. Let's see if we can find another strategy with Sharpe Ratio > 1, and a low max drawadown:"
   ]
  },
  {
   "cell_type": "code",
   "execution_count": 50,
   "metadata": {},
   "outputs": [
    {
     "data": {
      "text/plain": [
       "0"
      ]
     },
     "execution_count": 50,
     "metadata": {},
     "output_type": "execute_result"
    }
   ],
   "source": [
    "good_sharpe_ratio_results = [res for res in all_results if res['Strategy Sharpe Ratio'] > 1]\n",
    "len(good_sharpe_ratio_results)"
   ]
  },
  {
   "cell_type": "markdown",
   "metadata": {},
   "source": [
    "Well, unfortunately, there are no strategies with Sharpe Ratio > 1. Let's see if at least we have a better than 0.89 Sharpe Ratio"
   ]
  },
  {
   "cell_type": "code",
   "execution_count": 53,
   "metadata": {},
   "outputs": [
    {
     "name": "stdout",
     "output_type": "stream",
     "text": [
      "Strategy with the smallest max_drawdown:\n",
      "----------------------------------------------------------------------------\n"
     ]
    },
    {
     "data": {
      "image/png": "[encoded data removed]",
      "text/plain": [
       "<Figure size 432x288 with 1 Axes>"
      ]
     },
     "metadata": {
      "needs_background": "light"
     },
     "output_type": "display_data"
    },
    {
     "name": "stdout",
     "output_type": "stream",
     "text": [
      "label_type_idx  =  2\n",
      "opt_feat_idx  =  3\n",
      "opt_feat_file  =  ada_opt_feat_3.pkl\n",
      "hyper_params  =  {'learning_rate': 0.1, 'n_estimators': 35}\n",
      "Strategy Sharpe Ratio  =  0.9668259457011948\n",
      "SP Sharpe Ratio  =  0.5846194645603067\n",
      "Strategy total return  =  3.32484343286291\n",
      "SPY total return  =  2.360200999999999\n",
      "Average annual return  =  0.08338981041909577\n",
      "SPY average annual return  =  0.058920280465017294\n",
      "beta  =  0.45540048695702073\n",
      "Information Ratio  =  0.8049580278862505\n",
      "Strategy alpha  =  0.11369381567356561\n",
      "max_drawdown  =  0.07446689941540524\n",
      "----------------------------------------------------------------------------\n"
     ]
    }
   ],
   "source": [
    "sharpe_ratios = [res['Strategy Sharpe Ratio'] for res in all_results]\n",
    "max_sharpe_idx = np.argmax(sharpe_ratios)\n",
    "opt_res = all_results[max_sharpe_idx]\n",
    "print(\"Strategy with the smallest max_drawdown:\")\n",
    "print_strategy_performance(opt_res)"
   ]
  },
  {
   "cell_type": "markdown",
   "metadata": {},
   "source": [
    "OK. This strategy has almost the same ```max_drawdown```, but a noticeably better Sharpe Ratio (0.97). So, for Problem 2, this strategy is the answer, in my opinion."
   ]
  },
  {
   "cell_type": "markdown",
   "metadata": {},
   "source": [
    "This strategy has a lower total return than the random forest strategy in Problem 1. However, one aspect in which this strategy is better is the fact that it recovered from the financial crisis faster than the random forest model: 1 year vs 2 years."
   ]
  },
  {
   "cell_type": "code",
   "execution_count": null,
   "metadata": {},
   "outputs": [],
   "source": []
  }
 ],
 "metadata": {
  "kernelspec": {
   "display_name": "Python 3 (ipykernel)",
   "language": "python",
   "name": "python3"
  },
  "language_info": {
   "codemirror_mode": {
    "name": "ipython",
    "version": 3
   },
   "file_extension": ".py",
   "mimetype": "text/x-python",
   "name": "python",
   "nbconvert_exporter": "python",
   "pygments_lexer": "ipython3",
   "version": "3.9.12"
  },
  "latex_envs": {
   "LaTeX_envs_menu_present": true,
   "autoclose": false,
   "autocomplete": true,
   "bibliofile": "biblio.bib",
   "cite_by": "apalike",
   "current_citInitial": 1,
   "eqLabelWithNumbers": true,
   "eqNumInitial": 1,
   "hotkeys": {
    "equation": "Ctrl-E",
    "itemize": "Ctrl-I"
   },
   "labels_anchors": false,
   "latex_user_defs": false,
   "report_style_numbering": false,
   "user_envs_cfg": false
  }
 },
 "nbformat": 4,
 "nbformat_minor": 2
}
